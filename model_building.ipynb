{
 "cells": [
  {
   "cell_type": "markdown",
   "metadata": {},
   "source": [
    "# Model Building - Vehicles Project"
   ]
  },
  {
   "cell_type": "code",
   "execution_count": 1,
   "metadata": {},
   "outputs": [],
   "source": [
    "import numpy as np\n",
    "import pandas as pd\n",
    "import matplotlib.pyplot as plt\n",
    "import seaborn as sns"
   ]
  },
  {
   "cell_type": "code",
   "execution_count": 2,
   "metadata": {},
   "outputs": [],
   "source": [
    "df_clean = pd.read_csv('vehicles_clean.csv')\n",
    "\n",
    "df_clean.drop(['Unnamed: 0',], axis =1, inplace = True)"
   ]
  },
  {
   "cell_type": "code",
   "execution_count": 3,
   "metadata": {},
   "outputs": [],
   "source": [
    "df_num = df_clean[['price','year','odometer','edad','millas_anuales','dlen','cylinders']]\n",
    "df_cat = df_clean[['manufacturer','model','fuel','transmission','drive','type','state','condition']]"
   ]
  },
  {
   "cell_type": "code",
   "execution_count": 4,
   "metadata": {},
   "outputs": [
    {
     "data": {
      "text/plain": [
       "Index(['price', 'year', 'manufacturer', 'model', 'condition', 'cylinders',\n",
       "       'fuel', 'odometer', 'transmission', 'drive', 'type', 'description',\n",
       "       'state', 'dlen', 'edad', 'millas_anuales', 'precio_por_milla'],\n",
       "      dtype='object')"
      ]
     },
     "execution_count": 4,
     "metadata": {},
     "output_type": "execute_result"
    }
   ],
   "source": [
    "df_clean.columns"
   ]
  },
  {
   "cell_type": "code",
   "execution_count": 5,
   "metadata": {},
   "outputs": [],
   "source": [
    "df_model = df_clean[['edad','manufacturer','fuel','odometer','transmission','type','millas_anuales', 'dlen', 'condition',\n",
    "                     'price','cylinders','drive']]"
   ]
  },
  {
   "cell_type": "markdown",
   "metadata": {},
   "source": [
    "**Multiple Regression**"
   ]
  },
  {
   "cell_type": "code",
   "execution_count": 6,
   "metadata": {},
   "outputs": [],
   "source": [
    "from sklearn.model_selection import train_test_split\n",
    "from sklearn.linear_model import LinearRegression\n",
    "from sklearn.metrics import mean_squared_error, mean_absolute_error\n",
    "import math\n",
    "import statsmodels.api as sm\n",
    "from statsmodels.stats.outliers_influence import variance_inflation_factor"
   ]
  },
  {
   "cell_type": "code",
   "execution_count": 7,
   "metadata": {},
   "outputs": [],
   "source": [
    "#Adding constant for our stats model librarie\n",
    "df_model = sm.tools.tools.add_constant(df_model, prepend=True, has_constant='skip')"
   ]
  },
  {
   "cell_type": "code",
   "execution_count": 8,
   "metadata": {},
   "outputs": [],
   "source": [
    "#First, were gonna try our regression only with numerical variables\n",
    "X1 = df_model[['const','odometer','edad','millas_anuales','dlen','cylinders']]\n",
    "y1 = df_model.price.values"
   ]
  },
  {
   "cell_type": "code",
   "execution_count": 9,
   "metadata": {},
   "outputs": [],
   "source": [
    "X_train1, X_test1, y_train1, y_test1 = train_test_split(X1, y1, test_size=0.3, random_state=0)"
   ]
  },
  {
   "cell_type": "code",
   "execution_count": 10,
   "metadata": {},
   "outputs": [
    {
     "data": {
      "text/html": [
       "<table class=\"simpletable\">\n",
       "<caption>OLS Regression Results</caption>\n",
       "<tr>\n",
       "  <th>Dep. Variable:</th>            <td>y</td>        <th>  R-squared:         </th>  <td>   0.557</td>  \n",
       "</tr>\n",
       "<tr>\n",
       "  <th>Model:</th>                   <td>OLS</td>       <th>  Adj. R-squared:    </th>  <td>   0.557</td>  \n",
       "</tr>\n",
       "<tr>\n",
       "  <th>Method:</th>             <td>Least Squares</td>  <th>  F-statistic:       </th>  <td>3.418e+04</td> \n",
       "</tr>\n",
       "<tr>\n",
       "  <th>Date:</th>             <td>Wed, 11 Nov 2020</td> <th>  Prob (F-statistic):</th>   <td>  0.00</td>   \n",
       "</tr>\n",
       "<tr>\n",
       "  <th>Time:</th>                 <td>20:00:09</td>     <th>  Log-Likelihood:    </th> <td>-1.4025e+06</td>\n",
       "</tr>\n",
       "<tr>\n",
       "  <th>No. Observations:</th>      <td>135738</td>      <th>  AIC:               </th>  <td>2.805e+06</td> \n",
       "</tr>\n",
       "<tr>\n",
       "  <th>Df Residuals:</th>          <td>135732</td>      <th>  BIC:               </th>  <td>2.805e+06</td> \n",
       "</tr>\n",
       "<tr>\n",
       "  <th>Df Model:</th>              <td>     5</td>      <th>                     </th>      <td> </td>     \n",
       "</tr>\n",
       "<tr>\n",
       "  <th>Covariance Type:</th>      <td>nonrobust</td>    <th>                     </th>      <td> </td>     \n",
       "</tr>\n",
       "</table>\n",
       "<table class=\"simpletable\">\n",
       "<tr>\n",
       "         <td></td>           <th>coef</th>     <th>std err</th>      <th>t</th>      <th>P>|t|</th>  <th>[0.025</th>    <th>0.975]</th>  \n",
       "</tr>\n",
       "<tr>\n",
       "  <th>const</th>          <td> 1.084e+04</td> <td>  115.887</td> <td>   93.546</td> <td> 0.000</td> <td> 1.06e+04</td> <td> 1.11e+04</td>\n",
       "</tr>\n",
       "<tr>\n",
       "  <th>odometer</th>       <td>   -0.0424</td> <td>    0.001</td> <td>  -56.007</td> <td> 0.000</td> <td>   -0.044</td> <td>   -0.041</td>\n",
       "</tr>\n",
       "<tr>\n",
       "  <th>edad</th>           <td>-1122.0520</td> <td>    8.521</td> <td> -131.687</td> <td> 0.000</td> <td>-1138.752</td> <td>-1105.352</td>\n",
       "</tr>\n",
       "<tr>\n",
       "  <th>millas_anuales</th> <td>    0.0141</td> <td>    0.006</td> <td>    2.393</td> <td> 0.017</td> <td>    0.003</td> <td>    0.026</td>\n",
       "</tr>\n",
       "<tr>\n",
       "  <th>dlen</th>           <td>    0.3740</td> <td>    0.007</td> <td>   53.993</td> <td> 0.000</td> <td>    0.360</td> <td>    0.388</td>\n",
       "</tr>\n",
       "<tr>\n",
       "  <th>cylinders</th>      <td> 3076.7673</td> <td>   15.617</td> <td>  197.018</td> <td> 0.000</td> <td> 3046.159</td> <td> 3107.376</td>\n",
       "</tr>\n",
       "</table>\n",
       "<table class=\"simpletable\">\n",
       "<tr>\n",
       "  <th>Omnibus:</th>       <td>29466.413</td> <th>  Durbin-Watson:     </th> <td>   1.993</td> \n",
       "</tr>\n",
       "<tr>\n",
       "  <th>Prob(Omnibus):</th>  <td> 0.000</td>   <th>  Jarque-Bera (JB):  </th> <td>69238.250</td>\n",
       "</tr>\n",
       "<tr>\n",
       "  <th>Skew:</th>           <td> 1.223</td>   <th>  Prob(JB):          </th> <td>    0.00</td> \n",
       "</tr>\n",
       "<tr>\n",
       "  <th>Kurtosis:</th>       <td> 5.502</td>   <th>  Cond. No.          </th> <td>6.87e+05</td> \n",
       "</tr>\n",
       "</table><br/><br/>Notes:<br/>[1] Standard Errors assume that the covariance matrix of the errors is correctly specified.<br/>[2] The condition number is large, 6.87e+05. This might indicate that there are<br/>strong multicollinearity or other numerical problems."
      ],
      "text/plain": [
       "<class 'statsmodels.iolib.summary.Summary'>\n",
       "\"\"\"\n",
       "                            OLS Regression Results                            \n",
       "==============================================================================\n",
       "Dep. Variable:                      y   R-squared:                       0.557\n",
       "Model:                            OLS   Adj. R-squared:                  0.557\n",
       "Method:                 Least Squares   F-statistic:                 3.418e+04\n",
       "Date:                Wed, 11 Nov 2020   Prob (F-statistic):               0.00\n",
       "Time:                        20:00:09   Log-Likelihood:            -1.4025e+06\n",
       "No. Observations:              135738   AIC:                         2.805e+06\n",
       "Df Residuals:                  135732   BIC:                         2.805e+06\n",
       "Df Model:                           5                                         \n",
       "Covariance Type:            nonrobust                                         \n",
       "==================================================================================\n",
       "                     coef    std err          t      P>|t|      [0.025      0.975]\n",
       "----------------------------------------------------------------------------------\n",
       "const           1.084e+04    115.887     93.546      0.000    1.06e+04    1.11e+04\n",
       "odometer          -0.0424      0.001    -56.007      0.000      -0.044      -0.041\n",
       "edad           -1122.0520      8.521   -131.687      0.000   -1138.752   -1105.352\n",
       "millas_anuales     0.0141      0.006      2.393      0.017       0.003       0.026\n",
       "dlen               0.3740      0.007     53.993      0.000       0.360       0.388\n",
       "cylinders       3076.7673     15.617    197.018      0.000    3046.159    3107.376\n",
       "==============================================================================\n",
       "Omnibus:                    29466.413   Durbin-Watson:                   1.993\n",
       "Prob(Omnibus):                  0.000   Jarque-Bera (JB):            69238.250\n",
       "Skew:                           1.223   Prob(JB):                         0.00\n",
       "Kurtosis:                       5.502   Cond. No.                     6.87e+05\n",
       "==============================================================================\n",
       "\n",
       "Notes:\n",
       "[1] Standard Errors assume that the covariance matrix of the errors is correctly specified.\n",
       "[2] The condition number is large, 6.87e+05. This might indicate that there are\n",
       "strong multicollinearity or other numerical problems.\n",
       "\"\"\""
      ]
     },
     "execution_count": 10,
     "metadata": {},
     "output_type": "execute_result"
    }
   ],
   "source": [
    "reg_sm1 = sm.OLS(y_train1, X_train1).fit()\n",
    "reg_sm1.summary()    "
   ]
  },
  {
   "cell_type": "code",
   "execution_count": 11,
   "metadata": {},
   "outputs": [],
   "source": [
    "#Got an R of 56%. The variable millas_anuales had an igsignificant value for our model.\n",
    "#The constant means that we start from there to predict the price of the vehicle."
   ]
  },
  {
   "cell_type": "code",
   "execution_count": 64,
   "metadata": {},
   "outputs": [
    {
     "name": "stdout",
     "output_type": "stream",
     "text": [
      "7451.000886724094\n",
      "5465.969867383569\n",
      "0.557\n"
     ]
    }
   ],
   "source": [
    "y_hat1 = reg_sm1.predict(X_test1)\n",
    "rmse1 = math.sqrt(mean_squared_error(y_hat1, y_test1))\n",
    "mae1 = mean_absolute_error(y_hat1, y_test1)\n",
    "r21 = 0.557\n",
    "\n",
    "print(rmse1)\n",
    "print(mae1)\n",
    "print(r21)"
   ]
  },
  {
   "cell_type": "code",
   "execution_count": 20,
   "metadata": {},
   "outputs": [
    {
     "data": {
      "text/plain": [
       "<matplotlib.collections.PathCollection at 0x15117f7a0d0>"
      ]
     },
     "execution_count": 20,
     "metadata": {},
     "output_type": "execute_result"
    },
    {
     "data": {
      "image/png": "[encoded data removed]",
      "text/plain": [
       "<Figure size 432x288 with 1 Axes>"
      ]
     },
     "metadata": {
      "needs_background": "light"
     },
     "output_type": "display_data"
    }
   ],
   "source": [
    "plt.scatter(y_hat1,y_test1)"
   ]
  },
  {
   "cell_type": "code",
   "execution_count": 19,
   "metadata": {},
   "outputs": [],
   "source": [
    "#Not bad results for the first model."
   ]
  },
  {
   "cell_type": "code",
   "execution_count": 21,
   "metadata": {},
   "outputs": [],
   "source": [
    "#Now were gonna add some categorical variables tom our model, apply dummies to make it useful to our model\n",
    "X2 = pd.get_dummies(df_model[['odometer','edad','fuel','transmission','type','dlen','condition','drive','cylinders']])                              \n",
    "y2 = df_model.price.values"
   ]
  },
  {
   "cell_type": "code",
   "execution_count": 22,
   "metadata": {},
   "outputs": [],
   "source": [
    "X_train2, X_test2, y_train2, y_test2 = train_test_split(X2, y2, test_size=0.3, random_state=0)"
   ]
  },
  {
   "cell_type": "code",
   "execution_count": 23,
   "metadata": {},
   "outputs": [
    {
     "data": {
      "text/html": [
       "<table class=\"simpletable\">\n",
       "<caption>OLS Regression Results</caption>\n",
       "<tr>\n",
       "  <th>Dep. Variable:</th>            <td>y</td>        <th>  R-squared:         </th>  <td>   0.695</td>  \n",
       "</tr>\n",
       "<tr>\n",
       "  <th>Model:</th>                   <td>OLS</td>       <th>  Adj. R-squared:    </th>  <td>   0.695</td>  \n",
       "</tr>\n",
       "<tr>\n",
       "  <th>Method:</th>             <td>Least Squares</td>  <th>  F-statistic:       </th>  <td>1.067e+04</td> \n",
       "</tr>\n",
       "<tr>\n",
       "  <th>Date:</th>             <td>Wed, 11 Nov 2020</td> <th>  Prob (F-statistic):</th>   <td>  0.00</td>   \n",
       "</tr>\n",
       "<tr>\n",
       "  <th>Time:</th>                 <td>20:08:23</td>     <th>  Log-Likelihood:    </th> <td>-1.3772e+06</td>\n",
       "</tr>\n",
       "<tr>\n",
       "  <th>No. Observations:</th>      <td>135738</td>      <th>  AIC:               </th>  <td>2.755e+06</td> \n",
       "</tr>\n",
       "<tr>\n",
       "  <th>Df Residuals:</th>          <td>135708</td>      <th>  BIC:               </th>  <td>2.755e+06</td> \n",
       "</tr>\n",
       "<tr>\n",
       "  <th>Df Model:</th>              <td>    29</td>      <th>                     </th>      <td> </td>     \n",
       "</tr>\n",
       "<tr>\n",
       "  <th>Covariance Type:</th>      <td>nonrobust</td>    <th>                     </th>      <td> </td>     \n",
       "</tr>\n",
       "</table>\n",
       "<table class=\"simpletable\">\n",
       "<tr>\n",
       "              <td></td>                <th>coef</th>     <th>std err</th>      <th>t</th>      <th>P>|t|</th>  <th>[0.025</th>    <th>0.975]</th>  \n",
       "</tr>\n",
       "<tr>\n",
       "  <th>odometer</th>                 <td>   -0.0477</td> <td>    0.000</td> <td> -133.845</td> <td> 0.000</td> <td>   -0.048</td> <td>   -0.047</td>\n",
       "</tr>\n",
       "<tr>\n",
       "  <th>edad</th>                     <td>-1040.7759</td> <td>    4.647</td> <td> -223.949</td> <td> 0.000</td> <td>-1049.885</td> <td>-1031.667</td>\n",
       "</tr>\n",
       "<tr>\n",
       "  <th>dlen</th>                     <td>    0.2832</td> <td>    0.006</td> <td>   46.687</td> <td> 0.000</td> <td>    0.271</td> <td>    0.295</td>\n",
       "</tr>\n",
       "<tr>\n",
       "  <th>cylinders</th>                <td> 1444.9690</td> <td>   15.861</td> <td>   91.103</td> <td> 0.000</td> <td> 1413.882</td> <td> 1476.056</td>\n",
       "</tr>\n",
       "<tr>\n",
       "  <th>fuel_diesel</th>              <td> 1.052e+04</td> <td>  100.835</td> <td>  104.322</td> <td> 0.000</td> <td> 1.03e+04</td> <td> 1.07e+04</td>\n",
       "</tr>\n",
       "<tr>\n",
       "  <th>fuel_electric</th>            <td> 5124.2231</td> <td>  274.134</td> <td>   18.692</td> <td> 0.000</td> <td> 4586.925</td> <td> 5661.521</td>\n",
       "</tr>\n",
       "<tr>\n",
       "  <th>fuel_gas</th>                 <td> 1937.9784</td> <td>   82.045</td> <td>   23.621</td> <td> 0.000</td> <td> 1777.172</td> <td> 2098.785</td>\n",
       "</tr>\n",
       "<tr>\n",
       "  <th>fuel_hybrid</th>              <td> 2961.2188</td> <td>  137.198</td> <td>   21.584</td> <td> 0.000</td> <td> 2692.313</td> <td> 3230.124</td>\n",
       "</tr>\n",
       "<tr>\n",
       "  <th>transmission_automatic</th>   <td> 9387.3552</td> <td>   77.701</td> <td>  120.814</td> <td> 0.000</td> <td> 9235.063</td> <td> 9539.647</td>\n",
       "</tr>\n",
       "<tr>\n",
       "  <th>transmission_manual</th>      <td> 1.116e+04</td> <td>   88.864</td> <td>  125.533</td> <td> 0.000</td> <td>  1.1e+04</td> <td> 1.13e+04</td>\n",
       "</tr>\n",
       "<tr>\n",
       "  <th>type_NoEspecificado</th>      <td>  -43.6840</td> <td>   73.301</td> <td>   -0.596</td> <td> 0.551</td> <td> -187.353</td> <td>   99.985</td>\n",
       "</tr>\n",
       "<tr>\n",
       "  <th>type_SUV</th>                 <td> -689.5973</td> <td>   71.190</td> <td>   -9.687</td> <td> 0.000</td> <td> -829.128</td> <td> -550.067</td>\n",
       "</tr>\n",
       "<tr>\n",
       "  <th>type_bus</th>                 <td> 7503.2210</td> <td>  549.908</td> <td>   13.644</td> <td> 0.000</td> <td> 6425.411</td> <td> 8581.031</td>\n",
       "</tr>\n",
       "<tr>\n",
       "  <th>type_convertible</th>         <td> 3360.6759</td> <td>  144.465</td> <td>   23.263</td> <td> 0.000</td> <td> 3077.527</td> <td> 3643.825</td>\n",
       "</tr>\n",
       "<tr>\n",
       "  <th>type_coupe</th>               <td> 2020.4485</td> <td>  106.828</td> <td>   18.913</td> <td> 0.000</td> <td> 1811.067</td> <td> 2229.830</td>\n",
       "</tr>\n",
       "<tr>\n",
       "  <th>type_hatchback</th>           <td>-2430.0711</td> <td>  106.723</td> <td>  -22.770</td> <td> 0.000</td> <td>-2639.247</td> <td>-2220.896</td>\n",
       "</tr>\n",
       "<tr>\n",
       "  <th>type_mini-van</th>            <td> -145.9285</td> <td>  127.342</td> <td>   -1.146</td> <td> 0.252</td> <td> -395.516</td> <td>  103.659</td>\n",
       "</tr>\n",
       "<tr>\n",
       "  <th>type_offroad</th>             <td> 6772.9749</td> <td>  490.782</td> <td>   13.800</td> <td> 0.000</td> <td> 5811.051</td> <td> 7734.899</td>\n",
       "</tr>\n",
       "<tr>\n",
       "  <th>type_pickup</th>              <td> 4057.0921</td> <td>   88.339</td> <td>   45.927</td> <td> 0.000</td> <td> 3883.950</td> <td> 4230.234</td>\n",
       "</tr>\n",
       "<tr>\n",
       "  <th>type_sedan</th>               <td>-1859.5142</td> <td>   71.169</td> <td>  -26.128</td> <td> 0.000</td> <td>-1999.004</td> <td>-1720.024</td>\n",
       "</tr>\n",
       "<tr>\n",
       "  <th>type_truck</th>               <td> 4467.3096</td> <td>   86.329</td> <td>   51.747</td> <td> 0.000</td> <td> 4298.106</td> <td> 4636.514</td>\n",
       "</tr>\n",
       "<tr>\n",
       "  <th>type_van</th>                 <td> -180.8497</td> <td>  115.859</td> <td>   -1.561</td> <td> 0.119</td> <td> -407.931</td> <td>   46.232</td>\n",
       "</tr>\n",
       "<tr>\n",
       "  <th>type_wagon</th>               <td>-2289.2940</td> <td>  106.238</td> <td>  -21.549</td> <td> 0.000</td> <td>-2497.518</td> <td>-2081.070</td>\n",
       "</tr>\n",
       "<tr>\n",
       "  <th>condition_NoEspecificado</th> <td> 4128.3276</td> <td>   91.226</td> <td>   45.254</td> <td> 0.000</td> <td> 3949.526</td> <td> 4307.129</td>\n",
       "</tr>\n",
       "<tr>\n",
       "  <th>condition_excellent</th>      <td> 2742.4361</td> <td>   90.817</td> <td>   30.197</td> <td> 0.000</td> <td> 2564.436</td> <td> 2920.436</td>\n",
       "</tr>\n",
       "<tr>\n",
       "  <th>condition_fair</th>           <td> 2000.9744</td> <td>  151.047</td> <td>   13.247</td> <td> 0.000</td> <td> 1704.926</td> <td> 2297.023</td>\n",
       "</tr>\n",
       "<tr>\n",
       "  <th>condition_good</th>           <td> 2480.3249</td> <td>   93.545</td> <td>   26.515</td> <td> 0.000</td> <td> 2296.979</td> <td> 2663.671</td>\n",
       "</tr>\n",
       "<tr>\n",
       "  <th>condition_like new</th>       <td> 3575.3604</td> <td>  103.922</td> <td>   34.404</td> <td> 0.000</td> <td> 3371.676</td> <td> 3779.045</td>\n",
       "</tr>\n",
       "<tr>\n",
       "  <th>condition_new</th>            <td> 6543.6970</td> <td>  287.915</td> <td>   22.728</td> <td> 0.000</td> <td> 5979.389</td> <td> 7108.005</td>\n",
       "</tr>\n",
       "<tr>\n",
       "  <th>condition_salvage</th>        <td> -928.3373</td> <td>  500.975</td> <td>   -1.853</td> <td> 0.064</td> <td>-1910.238</td> <td>   53.564</td>\n",
       "</tr>\n",
       "<tr>\n",
       "  <th>drive_4wd</th>                <td> 7885.3374</td> <td>   49.584</td> <td>  159.030</td> <td> 0.000</td> <td> 7788.154</td> <td> 7982.521</td>\n",
       "</tr>\n",
       "<tr>\n",
       "  <th>drive_NoEspecificado</th>     <td> 4275.7471</td> <td>   52.011</td> <td>   82.209</td> <td> 0.000</td> <td> 4173.807</td> <td> 4377.687</td>\n",
       "</tr>\n",
       "<tr>\n",
       "  <th>drive_fwd</th>                <td> 2727.2299</td> <td>   45.240</td> <td>   60.284</td> <td> 0.000</td> <td> 2638.561</td> <td> 2815.899</td>\n",
       "</tr>\n",
       "<tr>\n",
       "  <th>drive_rwd</th>                <td> 5654.4688</td> <td>   60.601</td> <td>   93.306</td> <td> 0.000</td> <td> 5535.691</td> <td> 5773.247</td>\n",
       "</tr>\n",
       "</table>\n",
       "<table class=\"simpletable\">\n",
       "<tr>\n",
       "  <th>Omnibus:</th>       <td>29430.793</td> <th>  Durbin-Watson:     </th> <td>   1.997</td> \n",
       "</tr>\n",
       "<tr>\n",
       "  <th>Prob(Omnibus):</th>  <td> 0.000</td>   <th>  Jarque-Bera (JB):  </th> <td>90832.454</td>\n",
       "</tr>\n",
       "<tr>\n",
       "  <th>Skew:</th>           <td> 1.117</td>   <th>  Prob(JB):          </th> <td>    0.00</td> \n",
       "</tr>\n",
       "<tr>\n",
       "  <th>Kurtosis:</th>       <td> 6.327</td>   <th>  Cond. No.          </th> <td>1.00e+16</td> \n",
       "</tr>\n",
       "</table><br/><br/>Notes:<br/>[1] Standard Errors assume that the covariance matrix of the errors is correctly specified.<br/>[2] The smallest eigenvalue is 1.9e-17. This might indicate that there are<br/>strong multicollinearity problems or that the design matrix is singular."
      ],
      "text/plain": [
       "<class 'statsmodels.iolib.summary.Summary'>\n",
       "\"\"\"\n",
       "                            OLS Regression Results                            \n",
       "==============================================================================\n",
       "Dep. Variable:                      y   R-squared:                       0.695\n",
       "Model:                            OLS   Adj. R-squared:                  0.695\n",
       "Method:                 Least Squares   F-statistic:                 1.067e+04\n",
       "Date:                Wed, 11 Nov 2020   Prob (F-statistic):               0.00\n",
       "Time:                        20:08:23   Log-Likelihood:            -1.3772e+06\n",
       "No. Observations:              135738   AIC:                         2.755e+06\n",
       "Df Residuals:                  135708   BIC:                         2.755e+06\n",
       "Df Model:                          29                                         \n",
       "Covariance Type:            nonrobust                                         \n",
       "============================================================================================\n",
       "                               coef    std err          t      P>|t|      [0.025      0.975]\n",
       "--------------------------------------------------------------------------------------------\n",
       "odometer                    -0.0477      0.000   -133.845      0.000      -0.048      -0.047\n",
       "edad                     -1040.7759      4.647   -223.949      0.000   -1049.885   -1031.667\n",
       "dlen                         0.2832      0.006     46.687      0.000       0.271       0.295\n",
       "cylinders                 1444.9690     15.861     91.103      0.000    1413.882    1476.056\n",
       "fuel_diesel               1.052e+04    100.835    104.322      0.000    1.03e+04    1.07e+04\n",
       "fuel_electric             5124.2231    274.134     18.692      0.000    4586.925    5661.521\n",
       "fuel_gas                  1937.9784     82.045     23.621      0.000    1777.172    2098.785\n",
       "fuel_hybrid               2961.2188    137.198     21.584      0.000    2692.313    3230.124\n",
       "transmission_automatic    9387.3552     77.701    120.814      0.000    9235.063    9539.647\n",
       "transmission_manual       1.116e+04     88.864    125.533      0.000     1.1e+04    1.13e+04\n",
       "type_NoEspecificado        -43.6840     73.301     -0.596      0.551    -187.353      99.985\n",
       "type_SUV                  -689.5973     71.190     -9.687      0.000    -829.128    -550.067\n",
       "type_bus                  7503.2210    549.908     13.644      0.000    6425.411    8581.031\n",
       "type_convertible          3360.6759    144.465     23.263      0.000    3077.527    3643.825\n",
       "type_coupe                2020.4485    106.828     18.913      0.000    1811.067    2229.830\n",
       "type_hatchback           -2430.0711    106.723    -22.770      0.000   -2639.247   -2220.896\n",
       "type_mini-van             -145.9285    127.342     -1.146      0.252    -395.516     103.659\n",
       "type_offroad              6772.9749    490.782     13.800      0.000    5811.051    7734.899\n",
       "type_pickup               4057.0921     88.339     45.927      0.000    3883.950    4230.234\n",
       "type_sedan               -1859.5142     71.169    -26.128      0.000   -1999.004   -1720.024\n",
       "type_truck                4467.3096     86.329     51.747      0.000    4298.106    4636.514\n",
       "type_van                  -180.8497    115.859     -1.561      0.119    -407.931      46.232\n",
       "type_wagon               -2289.2940    106.238    -21.549      0.000   -2497.518   -2081.070\n",
       "condition_NoEspecificado  4128.3276     91.226     45.254      0.000    3949.526    4307.129\n",
       "condition_excellent       2742.4361     90.817     30.197      0.000    2564.436    2920.436\n",
       "condition_fair            2000.9744    151.047     13.247      0.000    1704.926    2297.023\n",
       "condition_good            2480.3249     93.545     26.515      0.000    2296.979    2663.671\n",
       "condition_like new        3575.3604    103.922     34.404      0.000    3371.676    3779.045\n",
       "condition_new             6543.6970    287.915     22.728      0.000    5979.389    7108.005\n",
       "condition_salvage         -928.3373    500.975     -1.853      0.064   -1910.238      53.564\n",
       "drive_4wd                 7885.3374     49.584    159.030      0.000    7788.154    7982.521\n",
       "drive_NoEspecificado      4275.7471     52.011     82.209      0.000    4173.807    4377.687\n",
       "drive_fwd                 2727.2299     45.240     60.284      0.000    2638.561    2815.899\n",
       "drive_rwd                 5654.4688     60.601     93.306      0.000    5535.691    5773.247\n",
       "==============================================================================\n",
       "Omnibus:                    29430.793   Durbin-Watson:                   1.997\n",
       "Prob(Omnibus):                  0.000   Jarque-Bera (JB):            90832.454\n",
       "Skew:                           1.117   Prob(JB):                         0.00\n",
       "Kurtosis:                       6.327   Cond. No.                     1.00e+16\n",
       "==============================================================================\n",
       "\n",
       "Notes:\n",
       "[1] Standard Errors assume that the covariance matrix of the errors is correctly specified.\n",
       "[2] The smallest eigenvalue is 1.9e-17. This might indicate that there are\n",
       "strong multicollinearity problems or that the design matrix is singular.\n",
       "\"\"\""
      ]
     },
     "execution_count": 23,
     "metadata": {},
     "output_type": "execute_result"
    }
   ],
   "source": [
    "reg_sm2 = sm.OLS(y_train2, X_train2).fit()\n",
    "reg_sm2.summary()"
   ]
  },
  {
   "cell_type": "code",
   "execution_count": 24,
   "metadata": {},
   "outputs": [],
   "source": [
    "#R of 70%! not bad. Variables:  type_NoEspecificado\t, type_mini-van and type_van are useful no our model."
   ]
  },
  {
   "cell_type": "code",
   "execution_count": 65,
   "metadata": {},
   "outputs": [
    {
     "name": "stdout",
     "output_type": "stream",
     "text": [
      "6197.098041245167\n",
      "4518.36409832375\n",
      "0.695\n"
     ]
    }
   ],
   "source": [
    "y_hat2 = reg_sm2.predict(X_test2)                                      \n",
    "rmse2 = math.sqrt(mean_squared_error(y_hat2, y_test2)) \n",
    "mae2 = mean_absolute_error(y_hat2, y_test2)\n",
    "r22 = 0.695\n",
    "\n",
    "print(rmse2)\n",
    "print(mae2)\n",
    "print(r22)"
   ]
  },
  {
   "cell_type": "code",
   "execution_count": 29,
   "metadata": {},
   "outputs": [
    {
     "data": {
      "text/plain": [
       "<matplotlib.collections.PathCollection at 0x151185a6d90>"
      ]
     },
     "execution_count": 29,
     "metadata": {},
     "output_type": "execute_result"
    },
    {
     "data": {
      "image/png": "[encoded data removed]",
      "text/plain": [
       "<Figure size 432x288 with 1 Axes>"
      ]
     },
     "metadata": {
      "needs_background": "light"
     },
     "output_type": "display_data"
    }
   ],
   "source": [
    "plt.scatter(y_hat2,y_test2)"
   ]
  },
  {
   "cell_type": "code",
   "execution_count": 28,
   "metadata": {},
   "outputs": [],
   "source": [
    "#RMSE improve aprox in 1.3k from our first. Very good."
   ]
  },
  {
   "cell_type": "code",
   "execution_count": 30,
   "metadata": {},
   "outputs": [],
   "source": [
    "#Lets try some cross validation to see how our model behaves in real world data"
   ]
  },
  {
   "cell_type": "code",
   "execution_count": 31,
   "metadata": {},
   "outputs": [],
   "source": [
    "from sklearn.model_selection import cross_val_score \n",
    "X3 = pd.get_dummies(df_model[['odometer','edad','fuel','transmission','type','dlen','condition','drive','cylinders']])\n",
    "y3 = df_model.price.values\n",
    "X_train3, X_test3, y_train3, y_test3 = train_test_split(X3, y3, test_size=0.3, random_state=0)"
   ]
  },
  {
   "cell_type": "code",
   "execution_count": 32,
   "metadata": {},
   "outputs": [
    {
     "data": {
      "text/plain": [
       "4515.49837259632"
      ]
     },
     "execution_count": 32,
     "metadata": {},
     "output_type": "execute_result"
    }
   ],
   "source": [
    "reg3 = LinearRegression().fit(X_train3, y_train3)\n",
    "reg3.score(X_train3,y_train3)\n",
    "\n",
    "scores = cross_val_score(reg3,X3,y3, cv=5, scoring = 'neg_mean_absolute_error')\n",
    "(np.abs(scores)).mean()"
   ]
  },
  {
   "cell_type": "code",
   "execution_count": 33,
   "metadata": {},
   "outputs": [],
   "source": [
    "#Confirms our model with a mae around 4.5k and an R of 70%."
   ]
  },
  {
   "cell_type": "code",
   "execution_count": 34,
   "metadata": {},
   "outputs": [],
   "source": [
    "#Time to prove our second model: KNN Regression"
   ]
  },
  {
   "cell_type": "code",
   "execution_count": 35,
   "metadata": {},
   "outputs": [],
   "source": [
    "from sklearn.neighbors import KNeighborsRegressor\n",
    "from sklearn.metrics import pairwise_distances\n",
    "from sklearn import neighbors\n",
    "from math import sqrt\n",
    "from sklearn.metrics import mean_squared_error \n",
    "from sklearn.preprocessing import MinMaxScaler"
   ]
  },
  {
   "cell_type": "code",
   "execution_count": 37,
   "metadata": {},
   "outputs": [],
   "source": [
    "Xknn = pd.get_dummies(df_model[['odometer','edad','fuel','transmission','type','dlen','condition','drive','cylinders']])\n",
    "yknn = df_model.price.values"
   ]
  },
  {
   "cell_type": "code",
   "execution_count": 39,
   "metadata": {},
   "outputs": [],
   "source": [
    "Xknn_train, Xknn_test, yknn_train, yknn_test = train_test_split(Xknn, yknn, test_size=0.3, random_state=0)"
   ]
  },
  {
   "cell_type": "code",
   "execution_count": 40,
   "metadata": {},
   "outputs": [],
   "source": [
    "#First we have to reshape our independent variables\n",
    "scaler = MinMaxScaler(feature_range=(0, 1))\n",
    "Xknn_train_scaled = scaler.fit_transform(Xknn_train)\n",
    "Xknn_train = pd.DataFrame(Xknn_train_scaled)"
   ]
  },
  {
   "cell_type": "code",
   "execution_count": 42,
   "metadata": {},
   "outputs": [
    {
     "name": "stdout",
     "output_type": "stream",
     "text": [
      "RMSE value for k=  1 is: 11362.214036792791\n",
      "RMSE value for k=  2 is: 11350.745817969368\n",
      "RMSE value for k=  3 is: 11157.6121353308\n",
      "RMSE value for k=  4 is: 11569.246549296844\n",
      "RMSE value for k=  5 is: 11974.941807526095\n",
      "RMSE value for k=  6 is: 11592.535741596796\n",
      "RMSE value for k=  7 is: 11880.736458722778\n",
      "RMSE value for k=  8 is: 12227.273458578713\n",
      "RMSE value for k=  9 is: 12250.11903300435\n",
      "RMSE value for k=  10 is: 12373.77770092846\n"
     ]
    }
   ],
   "source": [
    "rmse_val2 = [] \n",
    "for K in range(10):\n",
    "    K += 1\n",
    "    modelknn = neighbors.KNeighborsRegressor(n_neighbors = K)\n",
    "\n",
    "    modelknn.fit(Xknn_train, yknn_train)\n",
    "    predknn=modelknn.predict(Xknn_test) \n",
    "    errorknn = sqrt(mean_squared_error(yknn_test, predknn)) #calculamos rmse\n",
    "    rmse_val2.append(errorknn) #guardamos los valores rmse\n",
    "    print('RMSE value for k= ' , K , 'is:', errorknn)"
   ]
  },
  {
   "cell_type": "code",
   "execution_count": 43,
   "metadata": {},
   "outputs": [],
   "source": [
    "# The best value for our model KNN is when K = 3. Anyways is worst than our two first models.\n",
    "# Lets check the MAE for K = 3."
   ]
  },
  {
   "cell_type": "code",
   "execution_count": 45,
   "metadata": {},
   "outputs": [
    {
     "name": "stdout",
     "output_type": "stream",
     "text": [
      "MAE value for k=  1 is: 9283.417712380102\n",
      "MAE value for k=  2 is: 9281.445396568914\n",
      "MAE value for k=  3 is: 8332.87014817616\n"
     ]
    }
   ],
   "source": [
    "mae_val2 = [] \n",
    "for K in range(3):\n",
    "    K += 1\n",
    "    modelknn2 = neighbors.KNeighborsRegressor(n_neighbors = K)\n",
    "\n",
    "    modelknn2.fit(Xknn_train, yknn_train)\n",
    "    predknn2=modelknn2.predict(Xknn_test) \n",
    "    errorknn2 = mean_absolute_error(yknn_test, predknn2) #calculamos mae\n",
    "    mae_val2.append(errorknn) #guardamos los valores mae\n",
    "    print('MAE value for k= ' , K , 'is:', errorknn2)"
   ]
  },
  {
   "cell_type": "code",
   "execution_count": 47,
   "metadata": {},
   "outputs": [],
   "source": [
    "#So we have an RMSE and MAE highest than our two first models. Anyways lets save them to analysis.\n",
    "rmseknn = 11157.6121353308\n",
    "maeknn = 8332.87014817616"
   ]
  },
  {
   "cell_type": "code",
   "execution_count": 48,
   "metadata": {},
   "outputs": [],
   "source": [
    "#Time for our third model: RandomForest\n",
    "#I believe this will show us better results"
   ]
  },
  {
   "cell_type": "code",
   "execution_count": 49,
   "metadata": {},
   "outputs": [],
   "source": [
    "from sklearn.ensemble import RandomForestRegressor\n",
    "from sklearn.model_selection import train_test_split\n",
    "from sklearn.metrics import mean_absolute_error as mae\n",
    "from sklearn.metrics import r2_score"
   ]
  },
  {
   "cell_type": "code",
   "execution_count": 51,
   "metadata": {},
   "outputs": [],
   "source": [
    "Xr = pd.get_dummies(df_model[['odometer','edad','fuel','transmission','type','dlen','condition','drive','cylinders']])\n",
    "yr = df_model.price.values"
   ]
  },
  {
   "cell_type": "code",
   "execution_count": 52,
   "metadata": {},
   "outputs": [],
   "source": [
    "Xr_train, Xr_test, yr_train, yr_test = train_test_split(Xr, yr, test_size=.3, random_state=0)\n",
    "modelor = RandomForestRegressor(random_state=1)\n",
    "modelor.fit(Xr_train, yr_train)\n",
    "pred = modelor.predict(Xr_test)"
   ]
  },
  {
   "cell_type": "code",
   "execution_count": 60,
   "metadata": {},
   "outputs": [
    {
     "name": "stdout",
     "output_type": "stream",
     "text": [
      "3753.834766855475\n",
      "2148.1983567091916\n",
      "0.8875779916162655\n"
     ]
    }
   ],
   "source": [
    "rmser = sqrt(mean_squared_error(yr_test, pred)) \n",
    "maer = mae(yr_test, pred)\n",
    "r2r = r2_score(yr_test, pred)\n",
    "\n",
    "print(rmser)\n",
    "print(maer)\n",
    "print(r2_score(yr_test, pred))"
   ]
  },
  {
   "cell_type": "code",
   "execution_count": 55,
   "metadata": {},
   "outputs": [],
   "source": [
    "#By far the best model, but we have an R of 89%. Maybe we have an overfitting problem :("
   ]
  },
  {
   "cell_type": "code",
   "execution_count": 56,
   "metadata": {},
   "outputs": [
    {
     "data": {
      "text/html": [
       "<div>\n",
       "<style scoped>\n",
       "    .dataframe tbody tr th:only-of-type {\n",
       "        vertical-align: middle;\n",
       "    }\n",
       "\n",
       "    .dataframe tbody tr th {\n",
       "        vertical-align: top;\n",
       "    }\n",
       "\n",
       "    .dataframe thead th {\n",
       "        text-align: right;\n",
       "    }\n",
       "</style>\n",
       "<table border=\"1\" class=\"dataframe\">\n",
       "  <thead>\n",
       "    <tr style=\"text-align: right;\">\n",
       "      <th></th>\n",
       "      <th>Variable</th>\n",
       "      <th>Importancia</th>\n",
       "    </tr>\n",
       "  </thead>\n",
       "  <tbody>\n",
       "    <tr>\n",
       "      <th>1</th>\n",
       "      <td>edad</td>\n",
       "      <td>0.435816</td>\n",
       "    </tr>\n",
       "    <tr>\n",
       "      <th>0</th>\n",
       "      <td>odometer</td>\n",
       "      <td>0.141492</td>\n",
       "    </tr>\n",
       "    <tr>\n",
       "      <th>32</th>\n",
       "      <td>drive_fwd</td>\n",
       "      <td>0.100263</td>\n",
       "    </tr>\n",
       "    <tr>\n",
       "      <th>2</th>\n",
       "      <td>dlen</td>\n",
       "      <td>0.084672</td>\n",
       "    </tr>\n",
       "    <tr>\n",
       "      <th>3</th>\n",
       "      <td>cylinders</td>\n",
       "      <td>0.076381</td>\n",
       "    </tr>\n",
       "    <tr>\n",
       "      <th>4</th>\n",
       "      <td>fuel_diesel</td>\n",
       "      <td>0.039876</td>\n",
       "    </tr>\n",
       "    <tr>\n",
       "      <th>30</th>\n",
       "      <td>drive_4wd</td>\n",
       "      <td>0.035904</td>\n",
       "    </tr>\n",
       "    <tr>\n",
       "      <th>20</th>\n",
       "      <td>type_truck</td>\n",
       "      <td>0.008865</td>\n",
       "    </tr>\n",
       "    <tr>\n",
       "      <th>6</th>\n",
       "      <td>fuel_gas</td>\n",
       "      <td>0.008694</td>\n",
       "    </tr>\n",
       "    <tr>\n",
       "      <th>18</th>\n",
       "      <td>type_pickup</td>\n",
       "      <td>0.008056</td>\n",
       "    </tr>\n",
       "    <tr>\n",
       "      <th>11</th>\n",
       "      <td>type_SUV</td>\n",
       "      <td>0.007248</td>\n",
       "    </tr>\n",
       "    <tr>\n",
       "      <th>19</th>\n",
       "      <td>type_sedan</td>\n",
       "      <td>0.006744</td>\n",
       "    </tr>\n",
       "    <tr>\n",
       "      <th>23</th>\n",
       "      <td>condition_NoEspecificado</td>\n",
       "      <td>0.004965</td>\n",
       "    </tr>\n",
       "    <tr>\n",
       "      <th>10</th>\n",
       "      <td>type_NoEspecificado</td>\n",
       "      <td>0.004790</td>\n",
       "    </tr>\n",
       "    <tr>\n",
       "      <th>24</th>\n",
       "      <td>condition_excellent</td>\n",
       "      <td>0.004660</td>\n",
       "    </tr>\n",
       "    <tr>\n",
       "      <th>31</th>\n",
       "      <td>drive_NoEspecificado</td>\n",
       "      <td>0.003797</td>\n",
       "    </tr>\n",
       "    <tr>\n",
       "      <th>26</th>\n",
       "      <td>condition_good</td>\n",
       "      <td>0.003489</td>\n",
       "    </tr>\n",
       "    <tr>\n",
       "      <th>33</th>\n",
       "      <td>drive_rwd</td>\n",
       "      <td>0.002989</td>\n",
       "    </tr>\n",
       "    <tr>\n",
       "      <th>27</th>\n",
       "      <td>condition_like new</td>\n",
       "      <td>0.002703</td>\n",
       "    </tr>\n",
       "    <tr>\n",
       "      <th>21</th>\n",
       "      <td>type_van</td>\n",
       "      <td>0.002526</td>\n",
       "    </tr>\n",
       "    <tr>\n",
       "      <th>9</th>\n",
       "      <td>transmission_manual</td>\n",
       "      <td>0.002327</td>\n",
       "    </tr>\n",
       "    <tr>\n",
       "      <th>15</th>\n",
       "      <td>type_hatchback</td>\n",
       "      <td>0.002234</td>\n",
       "    </tr>\n",
       "    <tr>\n",
       "      <th>14</th>\n",
       "      <td>type_coupe</td>\n",
       "      <td>0.002216</td>\n",
       "    </tr>\n",
       "    <tr>\n",
       "      <th>8</th>\n",
       "      <td>transmission_automatic</td>\n",
       "      <td>0.002191</td>\n",
       "    </tr>\n",
       "    <tr>\n",
       "      <th>22</th>\n",
       "      <td>type_wagon</td>\n",
       "      <td>0.001666</td>\n",
       "    </tr>\n",
       "    <tr>\n",
       "      <th>13</th>\n",
       "      <td>type_convertible</td>\n",
       "      <td>0.001218</td>\n",
       "    </tr>\n",
       "    <tr>\n",
       "      <th>5</th>\n",
       "      <td>fuel_electric</td>\n",
       "      <td>0.000928</td>\n",
       "    </tr>\n",
       "    <tr>\n",
       "      <th>25</th>\n",
       "      <td>condition_fair</td>\n",
       "      <td>0.000747</td>\n",
       "    </tr>\n",
       "    <tr>\n",
       "      <th>12</th>\n",
       "      <td>type_bus</td>\n",
       "      <td>0.000620</td>\n",
       "    </tr>\n",
       "    <tr>\n",
       "      <th>16</th>\n",
       "      <td>type_mini-van</td>\n",
       "      <td>0.000593</td>\n",
       "    </tr>\n",
       "    <tr>\n",
       "      <th>17</th>\n",
       "      <td>type_offroad</td>\n",
       "      <td>0.000538</td>\n",
       "    </tr>\n",
       "    <tr>\n",
       "      <th>28</th>\n",
       "      <td>condition_new</td>\n",
       "      <td>0.000383</td>\n",
       "    </tr>\n",
       "    <tr>\n",
       "      <th>7</th>\n",
       "      <td>fuel_hybrid</td>\n",
       "      <td>0.000286</td>\n",
       "    </tr>\n",
       "    <tr>\n",
       "      <th>29</th>\n",
       "      <td>condition_salvage</td>\n",
       "      <td>0.000122</td>\n",
       "    </tr>\n",
       "  </tbody>\n",
       "</table>\n",
       "</div>"
      ],
      "text/plain": [
       "                    Variable  Importancia\n",
       "1                       edad     0.435816\n",
       "0                   odometer     0.141492\n",
       "32                 drive_fwd     0.100263\n",
       "2                       dlen     0.084672\n",
       "3                  cylinders     0.076381\n",
       "4                fuel_diesel     0.039876\n",
       "30                 drive_4wd     0.035904\n",
       "20                type_truck     0.008865\n",
       "6                   fuel_gas     0.008694\n",
       "18               type_pickup     0.008056\n",
       "11                  type_SUV     0.007248\n",
       "19                type_sedan     0.006744\n",
       "23  condition_NoEspecificado     0.004965\n",
       "10       type_NoEspecificado     0.004790\n",
       "24       condition_excellent     0.004660\n",
       "31      drive_NoEspecificado     0.003797\n",
       "26            condition_good     0.003489\n",
       "33                 drive_rwd     0.002989\n",
       "27        condition_like new     0.002703\n",
       "21                  type_van     0.002526\n",
       "9        transmission_manual     0.002327\n",
       "15            type_hatchback     0.002234\n",
       "14                type_coupe     0.002216\n",
       "8     transmission_automatic     0.002191\n",
       "22                type_wagon     0.001666\n",
       "13          type_convertible     0.001218\n",
       "5              fuel_electric     0.000928\n",
       "25            condition_fair     0.000747\n",
       "12                  type_bus     0.000620\n",
       "16             type_mini-van     0.000593\n",
       "17              type_offroad     0.000538\n",
       "28             condition_new     0.000383\n",
       "7                fuel_hybrid     0.000286\n",
       "29         condition_salvage     0.000122"
      ]
     },
     "execution_count": 56,
     "metadata": {},
     "output_type": "execute_result"
    }
   ],
   "source": [
    "#Showing the variable importance\n",
    "CoeffRM1 = pd.DataFrame(columns=[\"Variable\",\"Importancia\"])\n",
    "CoeffRM1[\"Variable\"]= Xr.columns\n",
    "CoeffRM1[\"Importancia\"]= modelor.feature_importances_\n",
    "CoeffRM1.sort_values(\"Importancia\", ascending = False)"
   ]
  },
  {
   "cell_type": "code",
   "execution_count": 57,
   "metadata": {},
   "outputs": [],
   "source": [
    "#Maybe we can try do decrease the overfitting, by tuning some parameters."
   ]
  },
  {
   "cell_type": "code",
   "execution_count": 58,
   "metadata": {},
   "outputs": [],
   "source": [
    "modelor2 = RandomForestRegressor(n_estimators=200, max_depth = 50, min_samples_split = 5,min_samples_leaf =4)\n",
    "modelor2.fit(Xr_train, yr_train)\n",
    "pred2 = modelor2.predict(Xr_test)"
   ]
  },
  {
   "cell_type": "code",
   "execution_count": 61,
   "metadata": {},
   "outputs": [
    {
     "name": "stdout",
     "output_type": "stream",
     "text": [
      "3991.1535201273828\n",
      "2479.3486776963787\n",
      "0.8729139441268144\n"
     ]
    }
   ],
   "source": [
    "rmser2 = sqrt(mean_squared_error(yr_test, pred2))\n",
    "maer2 = mae(yr_test, pred2)\n",
    "r2r2 = r2_score(yr_test, pred2)\n",
    "\n",
    "print(rmser2)\n",
    "print(maer2)\n",
    "print(r2_score(yr_test, pred2))"
   ]
  },
  {
   "cell_type": "code",
   "execution_count": 62,
   "metadata": {},
   "outputs": [],
   "source": [
    "# RMSE ~ 0.2 higher than our firt RF model, and R = 87%. Its nice.\n",
    "# Maybe our model its still overfitted, in the next update, we can try some GridSearchCV to tunning the parameters"
   ]
  },
  {
   "cell_type": "code",
   "execution_count": 85,
   "metadata": {},
   "outputs": [
    {
     "data": {
      "text/html": [
       "<div>\n",
       "<style scoped>\n",
       "    .dataframe tbody tr th:only-of-type {\n",
       "        vertical-align: middle;\n",
       "    }\n",
       "\n",
       "    .dataframe tbody tr th {\n",
       "        vertical-align: top;\n",
       "    }\n",
       "\n",
       "    .dataframe thead th {\n",
       "        text-align: right;\n",
       "    }\n",
       "</style>\n",
       "<table border=\"1\" class=\"dataframe\">\n",
       "  <thead>\n",
       "    <tr style=\"text-align: right;\">\n",
       "      <th></th>\n",
       "      <th>Model</th>\n",
       "      <th>MAE</th>\n",
       "      <th>RMSE</th>\n",
       "      <th>R2</th>\n",
       "    </tr>\n",
       "  </thead>\n",
       "  <tbody>\n",
       "    <tr>\n",
       "      <th>0</th>\n",
       "      <td>Multiple regression 1</td>\n",
       "      <td>5465.97</td>\n",
       "      <td>7451.00</td>\n",
       "      <td>0.557</td>\n",
       "    </tr>\n",
       "    <tr>\n",
       "      <th>1</th>\n",
       "      <td>Multiple regression 2</td>\n",
       "      <td>4518.36</td>\n",
       "      <td>6197.10</td>\n",
       "      <td>0.695</td>\n",
       "    </tr>\n",
       "    <tr>\n",
       "      <th>2</th>\n",
       "      <td>KNN Regression</td>\n",
       "      <td>8332.87</td>\n",
       "      <td>11157.61</td>\n",
       "      <td>-</td>\n",
       "    </tr>\n",
       "    <tr>\n",
       "      <th>3</th>\n",
       "      <td>RandomForest1</td>\n",
       "      <td>2148.20</td>\n",
       "      <td>3753.83</td>\n",
       "      <td>0.887578</td>\n",
       "    </tr>\n",
       "    <tr>\n",
       "      <th>4</th>\n",
       "      <td>RamdonForest2</td>\n",
       "      <td>2479.35</td>\n",
       "      <td>3991.15</td>\n",
       "      <td>0.872914</td>\n",
       "    </tr>\n",
       "  </tbody>\n",
       "</table>\n",
       "</div>"
      ],
      "text/plain": [
       "                   Model      MAE      RMSE        R2\n",
       "0  Multiple regression 1  5465.97   7451.00     0.557\n",
       "1  Multiple regression 2  4518.36   6197.10     0.695\n",
       "2         KNN Regression  8332.87  11157.61         -\n",
       "3          RandomForest1  2148.20   3753.83  0.887578\n",
       "4          RamdonForest2  2479.35   3991.15  0.872914"
      ]
     },
     "execution_count": 85,
     "metadata": {},
     "output_type": "execute_result"
    }
   ],
   "source": [
    "# Finally lets compare all models\n",
    "\n",
    "models = [['Multiple regression 1', mae1, rmse1, r21], ['Multiple regression 2', mae2, rmse2, r22],\n",
    "         ['KNN Regression', maeknn, rmseknn, '-'], ['RandomForest1', maer, rmser, r2r], ['RamdonForest2', maer2, rmser2, r2r2]]\n",
    "\n",
    "df_models = pd.DataFrame (models, columns = ['Model','MAE', 'RMSE','R2'])\n",
    "df_models = df_models.round(2)\n",
    "\n",
    "df_models"
   ]
  },
  {
   "cell_type": "code",
   "execution_count": 78,
   "metadata": {},
   "outputs": [
    {
     "data": {
      "text/plain": [
       "<seaborn.axisgrid.FacetGrid at 0x15173c62370>"
      ]
     },
     "execution_count": 78,
     "metadata": {},
     "output_type": "execute_result"
    },
    {
     "data": {
      "image/png": "[encoded data removed]",
      "text/plain": [
       "<Figure size 720x360 with 1 Axes>"
      ]
     },
     "metadata": {
      "needs_background": "light"
     },
     "output_type": "display_data"
    }
   ],
   "source": [
    "# Lets visualize the MAE per model\n",
    "sns.catplot(x=\"Model\", y=\"MAE\", linestyles=[\"-\"], kind=\"point\", data=df_models, aspect = 2)"
   ]
  },
  {
   "cell_type": "code",
   "execution_count": 79,
   "metadata": {},
   "outputs": [
    {
     "data": {
      "text/plain": [
       "<seaborn.axisgrid.FacetGrid at 0x1517277dc40>"
      ]
     },
     "execution_count": 79,
     "metadata": {},
     "output_type": "execute_result"
    },
    {
     "data": {
      "image/png": "[encoded data removed]",
      "text/plain": [
       "<Figure size 720x360 with 1 Axes>"
      ]
     },
     "metadata": {
      "needs_background": "light"
     },
     "output_type": "display_data"
    }
   ],
   "source": [
    "# Lets visualize the RMSE per model\n",
    "sns.catplot(x=\"Model\", y=\"RMSE\", linestyles=[\"-\"], kind=\"point\", data=df_models, aspect = 2)"
   ]
  },
  {
   "cell_type": "code",
   "execution_count": 89,
   "metadata": {},
   "outputs": [
    {
     "data": {
      "text/plain": [
       "<seaborn.axisgrid.FacetGrid at 0x151866d17f0>"
      ]
     },
     "execution_count": 89,
     "metadata": {},
     "output_type": "execute_result"
    },
    {
     "data": {
      "image/png": "[encoded data removed]",
      "text/plain": [
       "<Figure size 720x360 with 1 Axes>"
      ]
     },
     "metadata": {
      "needs_background": "light"
     },
     "output_type": "display_data"
    }
   ],
   "source": [
    "# Lets visualize the R2 per model\n",
    "df_r2 = df_models[df_models[\"Model\"]!='KNN Regression']\n",
    "sns.catplot(x=\"Model\", y=\"R2\", linestyles=[\"-\"], kind=\"point\", data=df_r2, aspect = 2)"
   ]
  }
 ],
 "metadata": {
  "kernelspec": {
   "display_name": "Python 3",
   "language": "python",
   "name": "python3"
  },
  "language_info": {
   "codemirror_mode": {
    "name": "ipython",
    "version": 3
   },
   "file_extension": ".py",
   "mimetype": "text/x-python",
   "name": "python",
   "nbconvert_exporter": "python",
   "pygments_lexer": "ipython3",
   "version": "3.8.3"
  }
 },
 "nbformat": 4,
 "nbformat_minor": 4
}
