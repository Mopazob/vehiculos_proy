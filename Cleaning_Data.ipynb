{
 "cells": [
  {
   "cell_type": "markdown",
   "metadata": {},
   "source": [
    "## Data exporation and cleaning"
   ]
  },
  {
   "cell_type": "markdown",
   "metadata": {},
   "source": [
    "**Importing libraries**"
   ]
  },
  {
   "cell_type": "code",
   "execution_count": 1,
   "metadata": {},
   "outputs": [],
   "source": [
    "import numpy as np\n",
    "import pandas as pd\n",
    "import matplotlib.pyplot as plt\n",
    "import seaborn as sns"
   ]
  },
  {
   "cell_type": "markdown",
   "metadata": {},
   "source": [
    "**Reading the data**"
   ]
  },
  {
   "cell_type": "code",
   "execution_count": 2,
   "metadata": {},
   "outputs": [],
   "source": [
    "df = pd.read_csv('vehicles.csv')"
   ]
  },
  {
   "cell_type": "code",
   "execution_count": 3,
   "metadata": {},
   "outputs": [
    {
     "data": {
      "text/html": [
       "<div>\n",
       "<style scoped>\n",
       "    .dataframe tbody tr th:only-of-type {\n",
       "        vertical-align: middle;\n",
       "    }\n",
       "\n",
       "    .dataframe tbody tr th {\n",
       "        vertical-align: top;\n",
       "    }\n",
       "\n",
       "    .dataframe thead th {\n",
       "        text-align: right;\n",
       "    }\n",
       "</style>\n",
       "<table border=\"1\" class=\"dataframe\">\n",
       "  <thead>\n",
       "    <tr style=\"text-align: right;\">\n",
       "      <th></th>\n",
       "      <th>id</th>\n",
       "      <th>url</th>\n",
       "      <th>region</th>\n",
       "      <th>region_url</th>\n",
       "      <th>price</th>\n",
       "      <th>year</th>\n",
       "      <th>manufacturer</th>\n",
       "      <th>model</th>\n",
       "      <th>condition</th>\n",
       "      <th>cylinders</th>\n",
       "      <th>...</th>\n",
       "      <th>drive</th>\n",
       "      <th>size</th>\n",
       "      <th>type</th>\n",
       "      <th>paint_color</th>\n",
       "      <th>image_url</th>\n",
       "      <th>description</th>\n",
       "      <th>county</th>\n",
       "      <th>state</th>\n",
       "      <th>lat</th>\n",
       "      <th>long</th>\n",
       "    </tr>\n",
       "  </thead>\n",
       "  <tbody>\n",
       "    <tr>\n",
       "      <th>0</th>\n",
       "      <td>7184791621</td>\n",
       "      <td>https://duluth.craigslist.org/ctd/d/duluth-200...</td>\n",
       "      <td>duluth / superior</td>\n",
       "      <td>https://duluth.craigslist.org</td>\n",
       "      <td>6995</td>\n",
       "      <td>2000.0</td>\n",
       "      <td>gmc</td>\n",
       "      <td>new sierra 1500</td>\n",
       "      <td>excellent</td>\n",
       "      <td>8 cylinders</td>\n",
       "      <td>...</td>\n",
       "      <td>4wd</td>\n",
       "      <td>NaN</td>\n",
       "      <td>NaN</td>\n",
       "      <td>red</td>\n",
       "      <td>https://images.craigslist.org/00n0n_f06ykBMcdh...</td>\n",
       "      <td>2000 *** GMC New Sierra 1500 Ext Cab 157.5  WB...</td>\n",
       "      <td>NaN</td>\n",
       "      <td>mn</td>\n",
       "      <td>46.8433</td>\n",
       "      <td>-92.2550</td>\n",
       "    </tr>\n",
       "    <tr>\n",
       "      <th>1</th>\n",
       "      <td>7184773187</td>\n",
       "      <td>https://duluth.craigslist.org/cto/d/saginaw-20...</td>\n",
       "      <td>duluth / superior</td>\n",
       "      <td>https://duluth.craigslist.org</td>\n",
       "      <td>8750</td>\n",
       "      <td>2013.0</td>\n",
       "      <td>hyundai</td>\n",
       "      <td>sonata</td>\n",
       "      <td>excellent</td>\n",
       "      <td>4 cylinders</td>\n",
       "      <td>...</td>\n",
       "      <td>fwd</td>\n",
       "      <td>NaN</td>\n",
       "      <td>NaN</td>\n",
       "      <td>grey</td>\n",
       "      <td>https://images.craigslist.org/00d0d_kgZ6xoeRw2...</td>\n",
       "      <td>For Sale:  2013 Hyundai Sonata GLS - $8750.  O...</td>\n",
       "      <td>NaN</td>\n",
       "      <td>mn</td>\n",
       "      <td>46.9074</td>\n",
       "      <td>-92.4638</td>\n",
       "    </tr>\n",
       "    <tr>\n",
       "      <th>2</th>\n",
       "      <td>7193375964</td>\n",
       "      <td>https://newhaven.craigslist.org/cto/d/stratfor...</td>\n",
       "      <td>new haven</td>\n",
       "      <td>https://newhaven.craigslist.org</td>\n",
       "      <td>10900</td>\n",
       "      <td>2013.0</td>\n",
       "      <td>toyota</td>\n",
       "      <td>prius</td>\n",
       "      <td>good</td>\n",
       "      <td>4 cylinders</td>\n",
       "      <td>...</td>\n",
       "      <td>fwd</td>\n",
       "      <td>NaN</td>\n",
       "      <td>NaN</td>\n",
       "      <td>blue</td>\n",
       "      <td>https://images.craigslist.org/00d0d_3sHGxPbY2O...</td>\n",
       "      <td>2013 Prius V Model Two. One owner—must sell my...</td>\n",
       "      <td>NaN</td>\n",
       "      <td>ct</td>\n",
       "      <td>41.1770</td>\n",
       "      <td>-73.1336</td>\n",
       "    </tr>\n",
       "    <tr>\n",
       "      <th>3</th>\n",
       "      <td>7195108810</td>\n",
       "      <td>https://albuquerque.craigslist.org/cto/d/albuq...</td>\n",
       "      <td>albuquerque</td>\n",
       "      <td>https://albuquerque.craigslist.org</td>\n",
       "      <td>12500</td>\n",
       "      <td>2003.0</td>\n",
       "      <td>mitsubishi</td>\n",
       "      <td>lancer</td>\n",
       "      <td>good</td>\n",
       "      <td>4 cylinders</td>\n",
       "      <td>...</td>\n",
       "      <td>4wd</td>\n",
       "      <td>mid-size</td>\n",
       "      <td>sedan</td>\n",
       "      <td>grey</td>\n",
       "      <td>https://images.craigslist.org/00m0m_4a8Pb6JbMG...</td>\n",
       "      <td>2003 Mitsubishi Lancer Evolution, silver.  Abo...</td>\n",
       "      <td>NaN</td>\n",
       "      <td>nm</td>\n",
       "      <td>35.1868</td>\n",
       "      <td>-106.6650</td>\n",
       "    </tr>\n",
       "    <tr>\n",
       "      <th>4</th>\n",
       "      <td>7184712241</td>\n",
       "      <td>https://duluth.craigslist.org/ctd/d/rush-city-...</td>\n",
       "      <td>duluth / superior</td>\n",
       "      <td>https://duluth.craigslist.org</td>\n",
       "      <td>16995</td>\n",
       "      <td>2007.0</td>\n",
       "      <td>gmc</td>\n",
       "      <td>sierra classic 2500hd</td>\n",
       "      <td>good</td>\n",
       "      <td>8 cylinders</td>\n",
       "      <td>...</td>\n",
       "      <td>4wd</td>\n",
       "      <td>full-size</td>\n",
       "      <td>truck</td>\n",
       "      <td>white</td>\n",
       "      <td>https://images.craigslist.org/01414_g093aPtSMW...</td>\n",
       "      <td>**Bad Credit, No Credit... No Problem!**2007 G...</td>\n",
       "      <td>NaN</td>\n",
       "      <td>mn</td>\n",
       "      <td>45.6836</td>\n",
       "      <td>-92.9648</td>\n",
       "    </tr>\n",
       "  </tbody>\n",
       "</table>\n",
       "<p>5 rows × 25 columns</p>\n",
       "</div>"
      ],
      "text/plain": [
       "           id                                                url  \\\n",
       "0  7184791621  https://duluth.craigslist.org/ctd/d/duluth-200...   \n",
       "1  7184773187  https://duluth.craigslist.org/cto/d/saginaw-20...   \n",
       "2  7193375964  https://newhaven.craigslist.org/cto/d/stratfor...   \n",
       "3  7195108810  https://albuquerque.craigslist.org/cto/d/albuq...   \n",
       "4  7184712241  https://duluth.craigslist.org/ctd/d/rush-city-...   \n",
       "\n",
       "              region                          region_url  price    year  \\\n",
       "0  duluth / superior       https://duluth.craigslist.org   6995  2000.0   \n",
       "1  duluth / superior       https://duluth.craigslist.org   8750  2013.0   \n",
       "2          new haven     https://newhaven.craigslist.org  10900  2013.0   \n",
       "3        albuquerque  https://albuquerque.craigslist.org  12500  2003.0   \n",
       "4  duluth / superior       https://duluth.craigslist.org  16995  2007.0   \n",
       "\n",
       "  manufacturer                  model  condition    cylinders  ... drive  \\\n",
       "0          gmc        new sierra 1500  excellent  8 cylinders  ...   4wd   \n",
       "1      hyundai                 sonata  excellent  4 cylinders  ...   fwd   \n",
       "2       toyota                  prius       good  4 cylinders  ...   fwd   \n",
       "3   mitsubishi                 lancer       good  4 cylinders  ...   4wd   \n",
       "4          gmc  sierra classic 2500hd       good  8 cylinders  ...   4wd   \n",
       "\n",
       "        size   type paint_color  \\\n",
       "0        NaN    NaN         red   \n",
       "1        NaN    NaN        grey   \n",
       "2        NaN    NaN        blue   \n",
       "3   mid-size  sedan        grey   \n",
       "4  full-size  truck       white   \n",
       "\n",
       "                                           image_url  \\\n",
       "0  https://images.craigslist.org/00n0n_f06ykBMcdh...   \n",
       "1  https://images.craigslist.org/00d0d_kgZ6xoeRw2...   \n",
       "2  https://images.craigslist.org/00d0d_3sHGxPbY2O...   \n",
       "3  https://images.craigslist.org/00m0m_4a8Pb6JbMG...   \n",
       "4  https://images.craigslist.org/01414_g093aPtSMW...   \n",
       "\n",
       "                                         description county state      lat  \\\n",
       "0  2000 *** GMC New Sierra 1500 Ext Cab 157.5  WB...    NaN    mn  46.8433   \n",
       "1  For Sale:  2013 Hyundai Sonata GLS - $8750.  O...    NaN    mn  46.9074   \n",
       "2  2013 Prius V Model Two. One owner—must sell my...    NaN    ct  41.1770   \n",
       "3  2003 Mitsubishi Lancer Evolution, silver.  Abo...    NaN    nm  35.1868   \n",
       "4  **Bad Credit, No Credit... No Problem!**2007 G...    NaN    mn  45.6836   \n",
       "\n",
       "       long  \n",
       "0  -92.2550  \n",
       "1  -92.4638  \n",
       "2  -73.1336  \n",
       "3 -106.6650  \n",
       "4  -92.9648  \n",
       "\n",
       "[5 rows x 25 columns]"
      ]
     },
     "execution_count": 3,
     "metadata": {},
     "output_type": "execute_result"
    }
   ],
   "source": [
    "df.head()"
   ]
  },
  {
   "cell_type": "code",
   "execution_count": 4,
   "metadata": {},
   "outputs": [
    {
     "data": {
      "text/plain": [
       "Index(['id', 'url', 'region', 'region_url', 'price', 'year', 'manufacturer',\n",
       "       'model', 'condition', 'cylinders', 'fuel', 'odometer', 'title_status',\n",
       "       'transmission', 'vin', 'drive', 'size', 'type', 'paint_color',\n",
       "       'image_url', 'description', 'county', 'state', 'lat', 'long'],\n",
       "      dtype='object')"
      ]
     },
     "execution_count": 4,
     "metadata": {},
     "output_type": "execute_result"
    }
   ],
   "source": [
    "df.columns"
   ]
  },
  {
   "cell_type": "code",
   "execution_count": 5,
   "metadata": {},
   "outputs": [
    {
     "data": {
      "text/plain": [
       "id                int64\n",
       "url              object\n",
       "region           object\n",
       "region_url       object\n",
       "price             int64\n",
       "year            float64\n",
       "manufacturer     object\n",
       "model            object\n",
       "condition        object\n",
       "cylinders        object\n",
       "fuel             object\n",
       "odometer        float64\n",
       "title_status     object\n",
       "transmission     object\n",
       "vin              object\n",
       "drive            object\n",
       "size             object\n",
       "type             object\n",
       "paint_color      object\n",
       "image_url        object\n",
       "description      object\n",
       "county          float64\n",
       "state            object\n",
       "lat             float64\n",
       "long            float64\n",
       "dtype: object"
      ]
     },
     "execution_count": 5,
     "metadata": {},
     "output_type": "execute_result"
    }
   ],
   "source": [
    "df.dtypes"
   ]
  },
  {
   "cell_type": "markdown",
   "metadata": {},
   "source": [
    "**Dropping unnecessary columns**"
   ]
  },
  {
   "cell_type": "code",
   "execution_count": 6,
   "metadata": {},
   "outputs": [],
   "source": [
    "df.drop(['county','url', 'region_url','region',], axis =1, inplace = True)\n",
    "df.drop(['lat','long'], axis =1, inplace = True)\n",
    "df.drop(['image_url'], axis =1, inplace = True)\n",
    "df.drop(['vin'], axis =1, inplace = True)"
   ]
  },
  {
   "cell_type": "markdown",
   "metadata": {},
   "source": [
    "Why cylinders is an object type?"
   ]
  },
  {
   "cell_type": "code",
   "execution_count": 11,
   "metadata": {},
   "outputs": [
    {
     "data": {
      "text/plain": [
       "array(['8 cylinders', '4 cylinders', '6 cylinders', nan, '10 cylinders',\n",
       "       '12 cylinders', '5 cylinders', '3 cylinders', 'other'],\n",
       "      dtype=object)"
      ]
     },
     "execution_count": 11,
     "metadata": {},
     "output_type": "execute_result"
    }
   ],
   "source": [
    "df.cylinders.unique()"
   ]
  },
  {
   "cell_type": "code",
   "execution_count": 13,
   "metadata": {},
   "outputs": [
    {
     "data": {
      "text/plain": [
       "6 cylinders     70130\n",
       "4 cylinders     69542\n",
       "8 cylinders     54091\n",
       "5 cylinders      1594\n",
       "10 cylinders      884\n",
       "other             851\n",
       "3 cylinders       406\n",
       "12 cylinders      181\n",
       "Name: cylinders, dtype: int64"
      ]
     },
     "execution_count": 13,
     "metadata": {},
     "output_type": "execute_result"
    }
   ],
   "source": [
    "df.cylinders.value_counts()"
   ]
  },
  {
   "cell_type": "code",
   "execution_count": 14,
   "metadata": {},
   "outputs": [],
   "source": [
    "df['cylinders'] = df.cylinders.apply(lambda x: str(x).replace('cylinders','').strip())"
   ]
  },
  {
   "cell_type": "code",
   "execution_count": 15,
   "metadata": {},
   "outputs": [
    {
     "data": {
      "text/plain": [
       "nan      226178\n",
       "6         70130\n",
       "4         69542\n",
       "8         54091\n",
       "5          1594\n",
       "10          884\n",
       "other       851\n",
       "3           406\n",
       "12          181\n",
       "Name: cylinders, dtype: int64"
      ]
     },
     "execution_count": 15,
     "metadata": {},
     "output_type": "execute_result"
    }
   ],
   "source": [
    "df.cylinders.value_counts()"
   ]
  },
  {
   "cell_type": "markdown",
   "metadata": {},
   "source": [
    "**Making it numerical**"
   ]
  },
  {
   "cell_type": "code",
   "execution_count": 16,
   "metadata": {},
   "outputs": [],
   "source": [
    "df.cylinders = pd.to_numeric(df.cylinders, errors = 'coerce')"
   ]
  },
  {
   "cell_type": "code",
   "execution_count": 17,
   "metadata": {},
   "outputs": [
    {
     "data": {
      "text/plain": [
       "dtype('float64')"
      ]
     },
     "execution_count": 17,
     "metadata": {},
     "output_type": "execute_result"
    }
   ],
   "source": [
    "df.cylinders.dtype"
   ]
  },
  {
   "cell_type": "markdown",
   "metadata": {},
   "source": [
    "**Looking other curious columns**"
   ]
  },
  {
   "cell_type": "code",
   "execution_count": 18,
   "metadata": {},
   "outputs": [
    {
     "data": {
      "text/plain": [
       "sedan          64842\n",
       "SUV            62106\n",
       "truck          26967\n",
       "pickup         24276\n",
       "coupe          12931\n",
       "other          12866\n",
       "hatchback       9574\n",
       "wagon           8332\n",
       "van             7287\n",
       "convertible     5854\n",
       "mini-van        5213\n",
       "offroad          530\n",
       "bus              379\n",
       "Name: type, dtype: int64"
      ]
     },
     "execution_count": 18,
     "metadata": {},
     "output_type": "execute_result"
    }
   ],
   "source": [
    "df.type.value_counts()"
   ]
  },
  {
   "cell_type": "code",
   "execution_count": 20,
   "metadata": {},
   "outputs": [
    {
     "data": {
      "text/plain": [
       "<AxesSubplot:>"
      ]
     },
     "execution_count": 20,
     "metadata": {},
     "output_type": "execute_result"
    },
    {
     "data": {
      "image/png": "[encoded data removed]",
      "text/plain": [
       "<Figure size 432x288 with 1 Axes>"
      ]
     },
     "metadata": {
      "needs_background": "light"
     },
     "output_type": "display_data"
    }
   ],
   "source": [
    "df.boxplot('odometer')"
   ]
  },
  {
   "cell_type": "code",
   "execution_count": 21,
   "metadata": {},
   "outputs": [
    {
     "data": {
      "text/plain": [
       "count    2.705850e+05\n",
       "mean     9.942578e+04\n",
       "std      1.204833e+05\n",
       "min      0.000000e+00\n",
       "25%      4.432400e+04\n",
       "50%      9.174900e+04\n",
       "75%      1.372370e+05\n",
       "max      1.000000e+07\n",
       "Name: odometer, dtype: float64"
      ]
     },
     "execution_count": 21,
     "metadata": {},
     "output_type": "execute_result"
    }
   ],
   "source": [
    "df.odometer.describe()"
   ]
  },
  {
   "cell_type": "markdown",
   "metadata": {},
   "source": [
    "We wanna predict the price of the vehicles, so maybe the vehicles type \"truck\" will spoil our model with their high odometer, so lets look graphically"
   ]
  },
  {
   "cell_type": "code",
   "execution_count": 26,
   "metadata": {},
   "outputs": [
    {
     "data": {
      "text/plain": [
       "<seaborn.axisgrid.FacetGrid at 0x22f807da970>"
      ]
     },
     "execution_count": 26,
     "metadata": {},
     "output_type": "execute_result"
    },
    {
     "data": {
      "image/png": "[encoded data removed]",
      "text/plain": [
       "<Figure size 720x144 with 1 Axes>"
      ]
     },
     "metadata": {
      "needs_background": "light"
     },
     "output_type": "display_data"
    }
   ],
   "source": [
    "sns.catplot(x='type', y='odometer', kind=\"bar\", data=df, aspect = 5, height=2)"
   ]
  },
  {
   "cell_type": "markdown",
   "metadata": {},
   "source": [
    "Aparently none type of vehicle has more odometer than others"
   ]
  },
  {
   "cell_type": "markdown",
   "metadata": {},
   "source": [
    "**Looking into price column**"
   ]
  },
  {
   "cell_type": "code",
   "execution_count": 27,
   "metadata": {},
   "outputs": [
    {
     "data": {
      "text/plain": [
       "count    4.238570e+05\n",
       "mean     5.779437e+04\n",
       "std      1.002581e+07\n",
       "min      0.000000e+00\n",
       "25%      4.499000e+03\n",
       "50%      9.995000e+03\n",
       "75%      1.899500e+04\n",
       "max      3.808256e+09\n",
       "Name: price, dtype: float64"
      ]
     },
     "execution_count": 27,
     "metadata": {},
     "output_type": "execute_result"
    }
   ],
   "source": [
    "df.price.describe()"
   ]
  },
  {
   "cell_type": "code",
   "execution_count": 28,
   "metadata": {},
   "outputs": [
    {
     "data": {
      "text/plain": [
       "<AxesSubplot:>"
      ]
     },
     "execution_count": 28,
     "metadata": {},
     "output_type": "execute_result"
    },
    {
     "data": {
      "image/png": "[encoded data removed]",
      "text/plain": [
       "<Figure size 432x288 with 1 Axes>"
      ]
     },
     "metadata": {
      "needs_background": "light"
     },
     "output_type": "display_data"
    }
   ],
   "source": [
    "df.price.hist()"
   ]
  },
  {
   "cell_type": "code",
   "execution_count": 29,
   "metadata": {},
   "outputs": [
    {
     "data": {
      "text/plain": [
       "<AxesSubplot:>"
      ]
     },
     "execution_count": 29,
     "metadata": {},
     "output_type": "execute_result"
    },
    {
     "data": {
      "image/png": "[encoded data removed]",
      "text/plain": [
       "<Figure size 432x288 with 1 Axes>"
      ]
     },
     "metadata": {
      "needs_background": "light"
     },
     "output_type": "display_data"
    }
   ],
   "source": [
    "df[\"price\"][df[\"price\"]<100000].hist()"
   ]
  },
  {
   "cell_type": "code",
   "execution_count": 30,
   "metadata": {},
   "outputs": [
    {
     "data": {
      "text/html": [
       "<div>\n",
       "<style scoped>\n",
       "    .dataframe tbody tr th:only-of-type {\n",
       "        vertical-align: middle;\n",
       "    }\n",
       "\n",
       "    .dataframe tbody tr th {\n",
       "        vertical-align: top;\n",
       "    }\n",
       "\n",
       "    .dataframe thead th {\n",
       "        text-align: right;\n",
       "    }\n",
       "</style>\n",
       "<table border=\"1\" class=\"dataframe\">\n",
       "  <thead>\n",
       "    <tr style=\"text-align: right;\">\n",
       "      <th></th>\n",
       "      <th>id</th>\n",
       "      <th>price</th>\n",
       "      <th>year</th>\n",
       "      <th>manufacturer</th>\n",
       "      <th>model</th>\n",
       "      <th>condition</th>\n",
       "      <th>cylinders</th>\n",
       "      <th>fuel</th>\n",
       "      <th>odometer</th>\n",
       "      <th>title_status</th>\n",
       "      <th>transmission</th>\n",
       "      <th>drive</th>\n",
       "      <th>size</th>\n",
       "      <th>type</th>\n",
       "      <th>paint_color</th>\n",
       "      <th>description</th>\n",
       "      <th>state</th>\n",
       "    </tr>\n",
       "  </thead>\n",
       "  <tbody>\n",
       "    <tr>\n",
       "      <th>248</th>\n",
       "      <td>7195013022</td>\n",
       "      <td>66995</td>\n",
       "      <td>2018.0</td>\n",
       "      <td>ford</td>\n",
       "      <td>f-350 lifted crew cab lariat sb 4x4 6.7 powers...</td>\n",
       "      <td>NaN</td>\n",
       "      <td>8.0</td>\n",
       "      <td>other</td>\n",
       "      <td>37865.0</td>\n",
       "      <td>clean</td>\n",
       "      <td>automatic</td>\n",
       "      <td>4wd</td>\n",
       "      <td>NaN</td>\n",
       "      <td>pickup</td>\n",
       "      <td>grey</td>\n",
       "      <td>🚗2018 Ford F-350 LIFTED CREW CAB LARIAT SB 4X4...</td>\n",
       "      <td>nm</td>\n",
       "    </tr>\n",
       "    <tr>\n",
       "      <th>257</th>\n",
       "      <td>7187140508</td>\n",
       "      <td>95000</td>\n",
       "      <td>2008.0</td>\n",
       "      <td>NaN</td>\n",
       "      <td>FREIGHTLINER M2</td>\n",
       "      <td>NaN</td>\n",
       "      <td>NaN</td>\n",
       "      <td>diesel</td>\n",
       "      <td>79000.0</td>\n",
       "      <td>clean</td>\n",
       "      <td>automatic</td>\n",
       "      <td>4wd</td>\n",
       "      <td>NaN</td>\n",
       "      <td>truck</td>\n",
       "      <td>NaN</td>\n",
       "      <td>2008 Freightliner M106 M2 4x4     Offered by: ...</td>\n",
       "      <td>mn</td>\n",
       "    </tr>\n",
       "    <tr>\n",
       "      <th>260</th>\n",
       "      <td>7187127580</td>\n",
       "      <td>150000</td>\n",
       "      <td>2017.0</td>\n",
       "      <td>NaN</td>\n",
       "      <td>KENWORTH T3 SERIES</td>\n",
       "      <td>NaN</td>\n",
       "      <td>NaN</td>\n",
       "      <td>gas</td>\n",
       "      <td>6086.0</td>\n",
       "      <td>clean</td>\n",
       "      <td>NaN</td>\n",
       "      <td>fwd</td>\n",
       "      <td>NaN</td>\n",
       "      <td>truck</td>\n",
       "      <td>NaN</td>\n",
       "      <td>2017 Kenworth VIP Transporter     Offered by: ...</td>\n",
       "      <td>mn</td>\n",
       "    </tr>\n",
       "    <tr>\n",
       "      <th>394</th>\n",
       "      <td>7186396645</td>\n",
       "      <td>64988</td>\n",
       "      <td>2020.0</td>\n",
       "      <td>chevrolet</td>\n",
       "      <td>silverado 2500hd</td>\n",
       "      <td>NaN</td>\n",
       "      <td>NaN</td>\n",
       "      <td>gas</td>\n",
       "      <td>14834.0</td>\n",
       "      <td>clean</td>\n",
       "      <td>automatic</td>\n",
       "      <td>4wd</td>\n",
       "      <td>NaN</td>\n",
       "      <td>NaN</td>\n",
       "      <td>red</td>\n",
       "      <td>Pleasureland Truck Center address:    25064 St...</td>\n",
       "      <td>mn</td>\n",
       "    </tr>\n",
       "    <tr>\n",
       "      <th>439</th>\n",
       "      <td>7185971884</td>\n",
       "      <td>95000</td>\n",
       "      <td>2008.0</td>\n",
       "      <td>NaN</td>\n",
       "      <td>FREIGHTLINER M2</td>\n",
       "      <td>NaN</td>\n",
       "      <td>NaN</td>\n",
       "      <td>diesel</td>\n",
       "      <td>79000.0</td>\n",
       "      <td>clean</td>\n",
       "      <td>automatic</td>\n",
       "      <td>4wd</td>\n",
       "      <td>NaN</td>\n",
       "      <td>truck</td>\n",
       "      <td>NaN</td>\n",
       "      <td>2008 Freightliner M106 M2 4x4     Offered by: ...</td>\n",
       "      <td>mn</td>\n",
       "    </tr>\n",
       "    <tr>\n",
       "      <th>...</th>\n",
       "      <td>...</td>\n",
       "      <td>...</td>\n",
       "      <td>...</td>\n",
       "      <td>...</td>\n",
       "      <td>...</td>\n",
       "      <td>...</td>\n",
       "      <td>...</td>\n",
       "      <td>...</td>\n",
       "      <td>...</td>\n",
       "      <td>...</td>\n",
       "      <td>...</td>\n",
       "      <td>...</td>\n",
       "      <td>...</td>\n",
       "      <td>...</td>\n",
       "      <td>...</td>\n",
       "      <td>...</td>\n",
       "      <td>...</td>\n",
       "    </tr>\n",
       "    <tr>\n",
       "      <th>422245</th>\n",
       "      <td>7194095310</td>\n",
       "      <td>62995</td>\n",
       "      <td>2017.0</td>\n",
       "      <td>mercedes-benz</td>\n",
       "      <td>sl</td>\n",
       "      <td>NaN</td>\n",
       "      <td>NaN</td>\n",
       "      <td>gas</td>\n",
       "      <td>15629.0</td>\n",
       "      <td>clean</td>\n",
       "      <td>automatic</td>\n",
       "      <td>NaN</td>\n",
       "      <td>NaN</td>\n",
       "      <td>NaN</td>\n",
       "      <td>NaN</td>\n",
       "      <td>2017 Mercedes-Benz SL CALL Automotive Avenues:...</td>\n",
       "      <td>nj</td>\n",
       "    </tr>\n",
       "    <tr>\n",
       "      <th>422344</th>\n",
       "      <td>7193975158</td>\n",
       "      <td>74995</td>\n",
       "      <td>2017.0</td>\n",
       "      <td>mercedes-benz</td>\n",
       "      <td>s-class</td>\n",
       "      <td>NaN</td>\n",
       "      <td>NaN</td>\n",
       "      <td>gas</td>\n",
       "      <td>12420.0</td>\n",
       "      <td>clean</td>\n",
       "      <td>automatic</td>\n",
       "      <td>NaN</td>\n",
       "      <td>NaN</td>\n",
       "      <td>NaN</td>\n",
       "      <td>NaN</td>\n",
       "      <td>2017 Mercedes-Benz S-Class CALL Automotive Ave...</td>\n",
       "      <td>nj</td>\n",
       "    </tr>\n",
       "    <tr>\n",
       "      <th>423110</th>\n",
       "      <td>7183900619</td>\n",
       "      <td>70000</td>\n",
       "      <td>2018.0</td>\n",
       "      <td>NaN</td>\n",
       "      <td>2018 mustang gt</td>\n",
       "      <td>like new</td>\n",
       "      <td>8.0</td>\n",
       "      <td>gas</td>\n",
       "      <td>NaN</td>\n",
       "      <td>clean</td>\n",
       "      <td>manual</td>\n",
       "      <td>rwd</td>\n",
       "      <td>compact</td>\n",
       "      <td>coupe</td>\n",
       "      <td>black</td>\n",
       "      <td>Newly purchased 2018 Roush JackHammer, full 3 ...</td>\n",
       "      <td>mi</td>\n",
       "    </tr>\n",
       "    <tr>\n",
       "      <th>423412</th>\n",
       "      <td>7185350063</td>\n",
       "      <td>65900</td>\n",
       "      <td>2009.0</td>\n",
       "      <td>NaN</td>\n",
       "      <td>International 4300</td>\n",
       "      <td>NaN</td>\n",
       "      <td>NaN</td>\n",
       "      <td>diesel</td>\n",
       "      <td>NaN</td>\n",
       "      <td>clean</td>\n",
       "      <td>automatic</td>\n",
       "      <td>NaN</td>\n",
       "      <td>NaN</td>\n",
       "      <td>NaN</td>\n",
       "      <td>NaN</td>\n",
       "      <td>*** SHIPPING AVAILABLE ***  Altec A40P Cable P...</td>\n",
       "      <td>mn</td>\n",
       "    </tr>\n",
       "    <tr>\n",
       "      <th>423612</th>\n",
       "      <td>7185047348</td>\n",
       "      <td>101999</td>\n",
       "      <td>2020.0</td>\n",
       "      <td>chevrolet</td>\n",
       "      <td>silverado 3500hd</td>\n",
       "      <td>like new</td>\n",
       "      <td>8.0</td>\n",
       "      <td>gas</td>\n",
       "      <td>7200.0</td>\n",
       "      <td>clean</td>\n",
       "      <td>automatic</td>\n",
       "      <td>4wd</td>\n",
       "      <td>NaN</td>\n",
       "      <td>truck</td>\n",
       "      <td>silver</td>\n",
       "      <td>I have a 2020 Chevrolet Silverado 3500 1ton LT...</td>\n",
       "      <td>mn</td>\n",
       "    </tr>\n",
       "  </tbody>\n",
       "</table>\n",
       "<p>4340 rows × 17 columns</p>\n",
       "</div>"
      ],
      "text/plain": [
       "                id   price    year   manufacturer  \\\n",
       "248     7195013022   66995  2018.0           ford   \n",
       "257     7187140508   95000  2008.0            NaN   \n",
       "260     7187127580  150000  2017.0            NaN   \n",
       "394     7186396645   64988  2020.0      chevrolet   \n",
       "439     7185971884   95000  2008.0            NaN   \n",
       "...            ...     ...     ...            ...   \n",
       "422245  7194095310   62995  2017.0  mercedes-benz   \n",
       "422344  7193975158   74995  2017.0  mercedes-benz   \n",
       "423110  7183900619   70000  2018.0            NaN   \n",
       "423412  7185350063   65900  2009.0            NaN   \n",
       "423612  7185047348  101999  2020.0      chevrolet   \n",
       "\n",
       "                                                    model condition  \\\n",
       "248     f-350 lifted crew cab lariat sb 4x4 6.7 powers...       NaN   \n",
       "257                                       FREIGHTLINER M2       NaN   \n",
       "260                                    KENWORTH T3 SERIES       NaN   \n",
       "394                                      silverado 2500hd       NaN   \n",
       "439                                       FREIGHTLINER M2       NaN   \n",
       "...                                                   ...       ...   \n",
       "422245                                                 sl       NaN   \n",
       "422344                                            s-class       NaN   \n",
       "423110                                    2018 mustang gt  like new   \n",
       "423412                                 International 4300       NaN   \n",
       "423612                                   silverado 3500hd  like new   \n",
       "\n",
       "        cylinders    fuel  odometer title_status transmission drive     size  \\\n",
       "248           8.0   other   37865.0        clean    automatic   4wd      NaN   \n",
       "257           NaN  diesel   79000.0        clean    automatic   4wd      NaN   \n",
       "260           NaN     gas    6086.0        clean          NaN   fwd      NaN   \n",
       "394           NaN     gas   14834.0        clean    automatic   4wd      NaN   \n",
       "439           NaN  diesel   79000.0        clean    automatic   4wd      NaN   \n",
       "...           ...     ...       ...          ...          ...   ...      ...   \n",
       "422245        NaN     gas   15629.0        clean    automatic   NaN      NaN   \n",
       "422344        NaN     gas   12420.0        clean    automatic   NaN      NaN   \n",
       "423110        8.0     gas       NaN        clean       manual   rwd  compact   \n",
       "423412        NaN  diesel       NaN        clean    automatic   NaN      NaN   \n",
       "423612        8.0     gas    7200.0        clean    automatic   4wd      NaN   \n",
       "\n",
       "          type paint_color                                        description  \\\n",
       "248     pickup        grey  🚗2018 Ford F-350 LIFTED CREW CAB LARIAT SB 4X4...   \n",
       "257      truck         NaN  2008 Freightliner M106 M2 4x4     Offered by: ...   \n",
       "260      truck         NaN  2017 Kenworth VIP Transporter     Offered by: ...   \n",
       "394        NaN         red  Pleasureland Truck Center address:    25064 St...   \n",
       "439      truck         NaN  2008 Freightliner M106 M2 4x4     Offered by: ...   \n",
       "...        ...         ...                                                ...   \n",
       "422245     NaN         NaN  2017 Mercedes-Benz SL CALL Automotive Avenues:...   \n",
       "422344     NaN         NaN  2017 Mercedes-Benz S-Class CALL Automotive Ave...   \n",
       "423110   coupe       black  Newly purchased 2018 Roush JackHammer, full 3 ...   \n",
       "423412     NaN         NaN  *** SHIPPING AVAILABLE ***  Altec A40P Cable P...   \n",
       "423612   truck      silver  I have a 2020 Chevrolet Silverado 3500 1ton LT...   \n",
       "\n",
       "       state  \n",
       "248       nm  \n",
       "257       mn  \n",
       "260       mn  \n",
       "394       mn  \n",
       "439       mn  \n",
       "...      ...  \n",
       "422245    nj  \n",
       "422344    nj  \n",
       "423110    mi  \n",
       "423412    mn  \n",
       "423612    mn  \n",
       "\n",
       "[4340 rows x 17 columns]"
      ]
     },
     "execution_count": 30,
     "metadata": {},
     "output_type": "execute_result"
    }
   ],
   "source": [
    "df[df[\"price\"]>60000]"
   ]
  },
  {
   "cell_type": "markdown",
   "metadata": {},
   "source": [
    "Only 4k rows with 60000+. So we are gonna drop it."
   ]
  },
  {
   "cell_type": "code",
   "execution_count": 31,
   "metadata": {},
   "outputs": [],
   "source": [
    "df_clean = df[df[\"price\"]<60000]"
   ]
  },
  {
   "cell_type": "code",
   "execution_count": 32,
   "metadata": {},
   "outputs": [
    {
     "data": {
      "text/plain": [
       "<AxesSubplot:>"
      ]
     },
     "execution_count": 32,
     "metadata": {},
     "output_type": "execute_result"
    },
    {
     "data": {
      "image/png": "[encoded data removed]",
      "text/plain": [
       "<Figure size 432x288 with 1 Axes>"
      ]
     },
     "metadata": {
      "needs_background": "light"
     },
     "output_type": "display_data"
    }
   ],
   "source": [
    "df_clean.price.hist()"
   ]
  },
  {
   "cell_type": "code",
   "execution_count": 33,
   "metadata": {},
   "outputs": [
    {
     "data": {
      "text/plain": [
       "count    419440.000000\n",
       "mean      13147.634987\n",
       "std       11799.660769\n",
       "min           0.000000\n",
       "25%        4450.000000\n",
       "50%        9995.000000\n",
       "75%       18800.000000\n",
       "max       59999.000000\n",
       "Name: price, dtype: float64"
      ]
     },
     "execution_count": 33,
     "metadata": {},
     "output_type": "execute_result"
    }
   ],
   "source": [
    "df_clean.price.describe()"
   ]
  },
  {
   "cell_type": "markdown",
   "metadata": {},
   "source": [
    "Aparently there are some vehicles with price 0. We are gonna drop it and work with price > 1000 USD"
   ]
  },
  {
   "cell_type": "code",
   "execution_count": 34,
   "metadata": {},
   "outputs": [],
   "source": [
    "df_clean = df_clean[df_clean['price']>=1000]"
   ]
  },
  {
   "cell_type": "code",
   "execution_count": 35,
   "metadata": {},
   "outputs": [
    {
     "data": {
      "text/plain": [
       "<AxesSubplot:>"
      ]
     },
     "execution_count": 35,
     "metadata": {},
     "output_type": "execute_result"
    },
    {
     "data": {
      "image/png": "[encoded data removed]",
      "text/plain": [
       "<Figure size 432x288 with 1 Axes>"
      ]
     },
     "metadata": {
      "needs_background": "light"
     },
     "output_type": "display_data"
    }
   ],
   "source": [
    "df_clean.boxplot('price')"
   ]
  },
  {
   "cell_type": "markdown",
   "metadata": {},
   "source": [
    "**Lets look into the year of the data**"
   ]
  },
  {
   "cell_type": "code",
   "execution_count": 36,
   "metadata": {},
   "outputs": [
    {
     "data": {
      "text/plain": [
       "<AxesSubplot:>"
      ]
     },
     "execution_count": 36,
     "metadata": {},
     "output_type": "execute_result"
    },
    {
     "data": {
      "image/png": "[encoded data removed]",
      "text/plain": [
       "<Figure size 432x288 with 1 Axes>"
      ]
     },
     "metadata": {
      "needs_background": "light"
     },
     "output_type": "display_data"
    }
   ],
   "source": [
    "df.year.hist()"
   ]
  },
  {
   "cell_type": "code",
   "execution_count": 37,
   "metadata": {},
   "outputs": [
    {
     "data": {
      "text/plain": [
       "<AxesSubplot:>"
      ]
     },
     "execution_count": 37,
     "metadata": {},
     "output_type": "execute_result"
    },
    {
     "data": {
      "image/png": "[encoded data removed]",
      "text/plain": [
       "<Figure size 432x288 with 1 Axes>"
      ]
     },
     "metadata": {
      "needs_background": "light"
     },
     "output_type": "display_data"
    }
   ],
   "source": [
    "df[\"year\"][df[\"year\"]>2000].hist()"
   ]
  },
  {
   "cell_type": "code",
   "execution_count": 38,
   "metadata": {},
   "outputs": [
    {
     "data": {
      "text/html": [
       "<div>\n",
       "<style scoped>\n",
       "    .dataframe tbody tr th:only-of-type {\n",
       "        vertical-align: middle;\n",
       "    }\n",
       "\n",
       "    .dataframe tbody tr th {\n",
       "        vertical-align: top;\n",
       "    }\n",
       "\n",
       "    .dataframe thead th {\n",
       "        text-align: right;\n",
       "    }\n",
       "</style>\n",
       "<table border=\"1\" class=\"dataframe\">\n",
       "  <thead>\n",
       "    <tr style=\"text-align: right;\">\n",
       "      <th></th>\n",
       "      <th>id</th>\n",
       "      <th>price</th>\n",
       "      <th>year</th>\n",
       "      <th>manufacturer</th>\n",
       "      <th>model</th>\n",
       "      <th>condition</th>\n",
       "      <th>cylinders</th>\n",
       "      <th>fuel</th>\n",
       "      <th>odometer</th>\n",
       "      <th>title_status</th>\n",
       "      <th>transmission</th>\n",
       "      <th>drive</th>\n",
       "      <th>size</th>\n",
       "      <th>type</th>\n",
       "      <th>paint_color</th>\n",
       "      <th>description</th>\n",
       "      <th>state</th>\n",
       "    </tr>\n",
       "  </thead>\n",
       "  <tbody>\n",
       "    <tr>\n",
       "      <th>19</th>\n",
       "      <td>7184663608</td>\n",
       "      <td>1500</td>\n",
       "      <td>1994.0</td>\n",
       "      <td>buick</td>\n",
       "      <td>century</td>\n",
       "      <td>fair</td>\n",
       "      <td>4.0</td>\n",
       "      <td>gas</td>\n",
       "      <td>128000.0</td>\n",
       "      <td>clean</td>\n",
       "      <td>automatic</td>\n",
       "      <td>fwd</td>\n",
       "      <td>mid-size</td>\n",
       "      <td>sedan</td>\n",
       "      <td>brown</td>\n",
       "      <td>1994 Buick Century running and its twin for aw...</td>\n",
       "      <td>mn</td>\n",
       "    </tr>\n",
       "    <tr>\n",
       "      <th>20</th>\n",
       "      <td>7184626883</td>\n",
       "      <td>6000</td>\n",
       "      <td>1997.0</td>\n",
       "      <td>ford</td>\n",
       "      <td>f-800</td>\n",
       "      <td>good</td>\n",
       "      <td>NaN</td>\n",
       "      <td>gas</td>\n",
       "      <td>152415.0</td>\n",
       "      <td>clean</td>\n",
       "      <td>automatic</td>\n",
       "      <td>rwd</td>\n",
       "      <td>full-size</td>\n",
       "      <td>other</td>\n",
       "      <td>brown</td>\n",
       "      <td>I have for sale a 1997 Ford F-800 Dump Truck. ...</td>\n",
       "      <td>mn</td>\n",
       "    </tr>\n",
       "    <tr>\n",
       "      <th>26</th>\n",
       "      <td>7195085488</td>\n",
       "      <td>5000</td>\n",
       "      <td>1980.0</td>\n",
       "      <td>chevrolet</td>\n",
       "      <td>camaro</td>\n",
       "      <td>NaN</td>\n",
       "      <td>NaN</td>\n",
       "      <td>gas</td>\n",
       "      <td>NaN</td>\n",
       "      <td>clean</td>\n",
       "      <td>automatic</td>\n",
       "      <td>NaN</td>\n",
       "      <td>NaN</td>\n",
       "      <td>NaN</td>\n",
       "      <td>NaN</td>\n",
       "      <td>1980 camaro, runs amazing Interior needs work ...</td>\n",
       "      <td>nm</td>\n",
       "    </tr>\n",
       "    <tr>\n",
       "      <th>50</th>\n",
       "      <td>7184080602</td>\n",
       "      <td>27000</td>\n",
       "      <td>1964.0</td>\n",
       "      <td>dodge</td>\n",
       "      <td>polara</td>\n",
       "      <td>like new</td>\n",
       "      <td>8.0</td>\n",
       "      <td>gas</td>\n",
       "      <td>36000.0</td>\n",
       "      <td>clean</td>\n",
       "      <td>automatic</td>\n",
       "      <td>rwd</td>\n",
       "      <td>mid-size</td>\n",
       "      <td>coupe</td>\n",
       "      <td>red</td>\n",
       "      <td>1964 Dodge Polara. $27,000. All original survi...</td>\n",
       "      <td>mn</td>\n",
       "    </tr>\n",
       "    <tr>\n",
       "      <th>53</th>\n",
       "      <td>7183985811</td>\n",
       "      <td>500</td>\n",
       "      <td>1998.0</td>\n",
       "      <td>honda</td>\n",
       "      <td>civic</td>\n",
       "      <td>good</td>\n",
       "      <td>4.0</td>\n",
       "      <td>gas</td>\n",
       "      <td>242613.0</td>\n",
       "      <td>clean</td>\n",
       "      <td>automatic</td>\n",
       "      <td>NaN</td>\n",
       "      <td>compact</td>\n",
       "      <td>NaN</td>\n",
       "      <td>red</td>\n",
       "      <td>Engine runs good but started to overheat for m...</td>\n",
       "      <td>mn</td>\n",
       "    </tr>\n",
       "    <tr>\n",
       "      <th>...</th>\n",
       "      <td>...</td>\n",
       "      <td>...</td>\n",
       "      <td>...</td>\n",
       "      <td>...</td>\n",
       "      <td>...</td>\n",
       "      <td>...</td>\n",
       "      <td>...</td>\n",
       "      <td>...</td>\n",
       "      <td>...</td>\n",
       "      <td>...</td>\n",
       "      <td>...</td>\n",
       "      <td>...</td>\n",
       "      <td>...</td>\n",
       "      <td>...</td>\n",
       "      <td>...</td>\n",
       "      <td>...</td>\n",
       "      <td>...</td>\n",
       "    </tr>\n",
       "    <tr>\n",
       "      <th>423840</th>\n",
       "      <td>7185260804</td>\n",
       "      <td>30000</td>\n",
       "      <td>1970.0</td>\n",
       "      <td>ford</td>\n",
       "      <td>ranchero gt cobra</td>\n",
       "      <td>excellent</td>\n",
       "      <td>NaN</td>\n",
       "      <td>gas</td>\n",
       "      <td>53325.0</td>\n",
       "      <td>clean</td>\n",
       "      <td>automatic</td>\n",
       "      <td>rwd</td>\n",
       "      <td>full-size</td>\n",
       "      <td>other</td>\n",
       "      <td>custom</td>\n",
       "      <td>Used 1970 Ford Ranchero GT Cobra Classic Muscl...</td>\n",
       "      <td>mn</td>\n",
       "    </tr>\n",
       "    <tr>\n",
       "      <th>423841</th>\n",
       "      <td>7185259670</td>\n",
       "      <td>15000</td>\n",
       "      <td>1962.0</td>\n",
       "      <td>NaN</td>\n",
       "      <td>Studebaker GT Hawk Torisimo</td>\n",
       "      <td>excellent</td>\n",
       "      <td>NaN</td>\n",
       "      <td>gas</td>\n",
       "      <td>2696.0</td>\n",
       "      <td>clean</td>\n",
       "      <td>automatic</td>\n",
       "      <td>rwd</td>\n",
       "      <td>full-size</td>\n",
       "      <td>coupe</td>\n",
       "      <td>black</td>\n",
       "      <td>Used 1962 Studebaker GT Hawk Grand Torisimo Cl...</td>\n",
       "      <td>mn</td>\n",
       "    </tr>\n",
       "    <tr>\n",
       "      <th>423844</th>\n",
       "      <td>7185155996</td>\n",
       "      <td>6000</td>\n",
       "      <td>1994.0</td>\n",
       "      <td>ford</td>\n",
       "      <td>f-700</td>\n",
       "      <td>good</td>\n",
       "      <td>NaN</td>\n",
       "      <td>diesel</td>\n",
       "      <td>37000.0</td>\n",
       "      <td>clean</td>\n",
       "      <td>manual</td>\n",
       "      <td>rwd</td>\n",
       "      <td>full-size</td>\n",
       "      <td>van</td>\n",
       "      <td>white</td>\n",
       "      <td>I have For Sale a 1994 Ford F-700 Box Truck.  ...</td>\n",
       "      <td>mn</td>\n",
       "    </tr>\n",
       "    <tr>\n",
       "      <th>423854</th>\n",
       "      <td>7184805809</td>\n",
       "      <td>700</td>\n",
       "      <td>1994.0</td>\n",
       "      <td>ford</td>\n",
       "      <td>f-150</td>\n",
       "      <td>fair</td>\n",
       "      <td>6.0</td>\n",
       "      <td>gas</td>\n",
       "      <td>212000.0</td>\n",
       "      <td>clean</td>\n",
       "      <td>manual</td>\n",
       "      <td>rwd</td>\n",
       "      <td>NaN</td>\n",
       "      <td>NaN</td>\n",
       "      <td>green</td>\n",
       "      <td>I'm selling this beautiful old pickup that I j...</td>\n",
       "      <td>mn</td>\n",
       "    </tr>\n",
       "    <tr>\n",
       "      <th>423855</th>\n",
       "      <td>7184791927</td>\n",
       "      <td>3800</td>\n",
       "      <td>1999.0</td>\n",
       "      <td>lincoln</td>\n",
       "      <td>town car</td>\n",
       "      <td>excellent</td>\n",
       "      <td>8.0</td>\n",
       "      <td>gas</td>\n",
       "      <td>160000.0</td>\n",
       "      <td>clean</td>\n",
       "      <td>automatic</td>\n",
       "      <td>rwd</td>\n",
       "      <td>NaN</td>\n",
       "      <td>sedan</td>\n",
       "      <td>NaN</td>\n",
       "      <td>1999 *** Lincoln Town Car 4dr Sdn Signature Se...</td>\n",
       "      <td>mn</td>\n",
       "    </tr>\n",
       "  </tbody>\n",
       "</table>\n",
       "<p>24686 rows × 17 columns</p>\n",
       "</div>"
      ],
      "text/plain": [
       "                id  price    year manufacturer                        model  \\\n",
       "19      7184663608   1500  1994.0        buick                      century   \n",
       "20      7184626883   6000  1997.0         ford                        f-800   \n",
       "26      7195085488   5000  1980.0    chevrolet                       camaro   \n",
       "50      7184080602  27000  1964.0        dodge                       polara   \n",
       "53      7183985811    500  1998.0        honda                        civic   \n",
       "...            ...    ...     ...          ...                          ...   \n",
       "423840  7185260804  30000  1970.0         ford            ranchero gt cobra   \n",
       "423841  7185259670  15000  1962.0          NaN  Studebaker GT Hawk Torisimo   \n",
       "423844  7185155996   6000  1994.0         ford                        f-700   \n",
       "423854  7184805809    700  1994.0         ford                        f-150   \n",
       "423855  7184791927   3800  1999.0      lincoln                     town car   \n",
       "\n",
       "        condition  cylinders    fuel  odometer title_status transmission  \\\n",
       "19           fair        4.0     gas  128000.0        clean    automatic   \n",
       "20           good        NaN     gas  152415.0        clean    automatic   \n",
       "26            NaN        NaN     gas       NaN        clean    automatic   \n",
       "50       like new        8.0     gas   36000.0        clean    automatic   \n",
       "53           good        4.0     gas  242613.0        clean    automatic   \n",
       "...           ...        ...     ...       ...          ...          ...   \n",
       "423840  excellent        NaN     gas   53325.0        clean    automatic   \n",
       "423841  excellent        NaN     gas    2696.0        clean    automatic   \n",
       "423844       good        NaN  diesel   37000.0        clean       manual   \n",
       "423854       fair        6.0     gas  212000.0        clean       manual   \n",
       "423855  excellent        8.0     gas  160000.0        clean    automatic   \n",
       "\n",
       "       drive       size   type paint_color  \\\n",
       "19       fwd   mid-size  sedan       brown   \n",
       "20       rwd  full-size  other       brown   \n",
       "26       NaN        NaN    NaN         NaN   \n",
       "50       rwd   mid-size  coupe         red   \n",
       "53       NaN    compact    NaN         red   \n",
       "...      ...        ...    ...         ...   \n",
       "423840   rwd  full-size  other      custom   \n",
       "423841   rwd  full-size  coupe       black   \n",
       "423844   rwd  full-size    van       white   \n",
       "423854   rwd        NaN    NaN       green   \n",
       "423855   rwd        NaN  sedan         NaN   \n",
       "\n",
       "                                              description state  \n",
       "19      1994 Buick Century running and its twin for aw...    mn  \n",
       "20      I have for sale a 1997 Ford F-800 Dump Truck. ...    mn  \n",
       "26      1980 camaro, runs amazing Interior needs work ...    nm  \n",
       "50      1964 Dodge Polara. $27,000. All original survi...    mn  \n",
       "53      Engine runs good but started to overheat for m...    mn  \n",
       "...                                                   ...   ...  \n",
       "423840  Used 1970 Ford Ranchero GT Cobra Classic Muscl...    mn  \n",
       "423841  Used 1962 Studebaker GT Hawk Grand Torisimo Cl...    mn  \n",
       "423844  I have For Sale a 1994 Ford F-700 Box Truck.  ...    mn  \n",
       "423854  I'm selling this beautiful old pickup that I j...    mn  \n",
       "423855  1999 *** Lincoln Town Car 4dr Sdn Signature Se...    mn  \n",
       "\n",
       "[24686 rows x 17 columns]"
      ]
     },
     "execution_count": 38,
     "metadata": {},
     "output_type": "execute_result"
    }
   ],
   "source": [
    "df[df[\"year\"]<2000]"
   ]
  },
  {
   "cell_type": "markdown",
   "metadata": {},
   "source": [
    "24k of entries below the 00's. Were gonna drop it since we want to work with vehicles from 2000 onwards"
   ]
  },
  {
   "cell_type": "code",
   "execution_count": 39,
   "metadata": {},
   "outputs": [],
   "source": [
    "df_clean = df_clean[df_clean[\"year\"]>=2000]"
   ]
  },
  {
   "cell_type": "code",
   "execution_count": 40,
   "metadata": {},
   "outputs": [
    {
     "data": {
      "text/plain": [
       "count    264983.000000\n",
       "mean       2011.726405\n",
       "std           5.053896\n",
       "min        2000.000000\n",
       "25%        2008.000000\n",
       "50%        2012.000000\n",
       "75%        2016.000000\n",
       "max        2021.000000\n",
       "Name: year, dtype: float64"
      ]
     },
     "execution_count": 40,
     "metadata": {},
     "output_type": "execute_result"
    }
   ],
   "source": [
    "df_clean.year.describe()"
   ]
  },
  {
   "cell_type": "code",
   "execution_count": 44,
   "metadata": {},
   "outputs": [
    {
     "data": {
      "text/html": [
       "<div>\n",
       "<style scoped>\n",
       "    .dataframe tbody tr th:only-of-type {\n",
       "        vertical-align: middle;\n",
       "    }\n",
       "\n",
       "    .dataframe tbody tr th {\n",
       "        vertical-align: top;\n",
       "    }\n",
       "\n",
       "    .dataframe thead th {\n",
       "        text-align: right;\n",
       "    }\n",
       "</style>\n",
       "<table border=\"1\" class=\"dataframe\">\n",
       "  <thead>\n",
       "    <tr style=\"text-align: right;\">\n",
       "      <th></th>\n",
       "      <th>id</th>\n",
       "      <th>price</th>\n",
       "      <th>year</th>\n",
       "      <th>manufacturer</th>\n",
       "      <th>model</th>\n",
       "      <th>condition</th>\n",
       "      <th>cylinders</th>\n",
       "      <th>fuel</th>\n",
       "      <th>odometer</th>\n",
       "      <th>title_status</th>\n",
       "      <th>transmission</th>\n",
       "      <th>drive</th>\n",
       "      <th>size</th>\n",
       "      <th>type</th>\n",
       "      <th>paint_color</th>\n",
       "      <th>description</th>\n",
       "      <th>state</th>\n",
       "    </tr>\n",
       "  </thead>\n",
       "  <tbody>\n",
       "    <tr>\n",
       "      <th>6202</th>\n",
       "      <td>7194162420</td>\n",
       "      <td>22680</td>\n",
       "      <td>2021.0</td>\n",
       "      <td>hyundai</td>\n",
       "      <td>kona sel automatic</td>\n",
       "      <td>NaN</td>\n",
       "      <td>NaN</td>\n",
       "      <td>gas</td>\n",
       "      <td>8.0</td>\n",
       "      <td>clean</td>\n",
       "      <td>automatic</td>\n",
       "      <td>fwd</td>\n",
       "      <td>NaN</td>\n",
       "      <td>SUV</td>\n",
       "      <td>white</td>\n",
       "      <td>2021 Hyundai Kona SEL  Tamiami Hyundai800-499-...</td>\n",
       "      <td>fl</td>\n",
       "    </tr>\n",
       "    <tr>\n",
       "      <th>6420</th>\n",
       "      <td>7193568670</td>\n",
       "      <td>975</td>\n",
       "      <td>2021.0</td>\n",
       "      <td>NaN</td>\n",
       "      <td>isuzu NPR HD</td>\n",
       "      <td>new</td>\n",
       "      <td>8.0</td>\n",
       "      <td>gas</td>\n",
       "      <td>NaN</td>\n",
       "      <td>clean</td>\n",
       "      <td>automatic</td>\n",
       "      <td>NaN</td>\n",
       "      <td>NaN</td>\n",
       "      <td>NaN</td>\n",
       "      <td>NaN</td>\n",
       "      <td>2021 Isuzu NPR Hd, 16ft pro- scaper . Automati...</td>\n",
       "      <td>fl</td>\n",
       "    </tr>\n",
       "    <tr>\n",
       "      <th>7035</th>\n",
       "      <td>7191841338</td>\n",
       "      <td>37996</td>\n",
       "      <td>2021.0</td>\n",
       "      <td>toyota</td>\n",
       "      <td>venza le hybrid</td>\n",
       "      <td>new</td>\n",
       "      <td>6.0</td>\n",
       "      <td>hybrid</td>\n",
       "      <td>NaN</td>\n",
       "      <td>clean</td>\n",
       "      <td>automatic</td>\n",
       "      <td>4wd</td>\n",
       "      <td>mid-size</td>\n",
       "      <td>SUV</td>\n",
       "      <td>red</td>\n",
       "      <td>This all New Toyota Venza LE Hybrid Hybrid Edi...</td>\n",
       "      <td>tx</td>\n",
       "    </tr>\n",
       "    <tr>\n",
       "      <th>8445</th>\n",
       "      <td>7180860200</td>\n",
       "      <td>45000</td>\n",
       "      <td>2021.0</td>\n",
       "      <td>hyundai</td>\n",
       "      <td>palisade limited</td>\n",
       "      <td>new</td>\n",
       "      <td>6.0</td>\n",
       "      <td>gas</td>\n",
       "      <td>645.0</td>\n",
       "      <td>clean</td>\n",
       "      <td>automatic</td>\n",
       "      <td>fwd</td>\n",
       "      <td>NaN</td>\n",
       "      <td>SUV</td>\n",
       "      <td>NaN</td>\n",
       "      <td>Bought this vehicle less than a week ago.  Has...</td>\n",
       "      <td>tn</td>\n",
       "    </tr>\n",
       "    <tr>\n",
       "      <th>9180</th>\n",
       "      <td>7194548582</td>\n",
       "      <td>0</td>\n",
       "      <td>2021.0</td>\n",
       "      <td>kia</td>\n",
       "      <td>telluride sx</td>\n",
       "      <td>like new</td>\n",
       "      <td>6.0</td>\n",
       "      <td>gas</td>\n",
       "      <td>NaN</td>\n",
       "      <td>clean</td>\n",
       "      <td>automatic</td>\n",
       "      <td>fwd</td>\n",
       "      <td>full-size</td>\n",
       "      <td>SUV</td>\n",
       "      <td>black</td>\n",
       "      <td>Fully loaded Telluride SX  wont last long .Thi...</td>\n",
       "      <td>fl</td>\n",
       "    </tr>\n",
       "    <tr>\n",
       "      <th>...</th>\n",
       "      <td>...</td>\n",
       "      <td>...</td>\n",
       "      <td>...</td>\n",
       "      <td>...</td>\n",
       "      <td>...</td>\n",
       "      <td>...</td>\n",
       "      <td>...</td>\n",
       "      <td>...</td>\n",
       "      <td>...</td>\n",
       "      <td>...</td>\n",
       "      <td>...</td>\n",
       "      <td>...</td>\n",
       "      <td>...</td>\n",
       "      <td>...</td>\n",
       "      <td>...</td>\n",
       "      <td>...</td>\n",
       "      <td>...</td>\n",
       "    </tr>\n",
       "    <tr>\n",
       "      <th>407442</th>\n",
       "      <td>7184361544</td>\n",
       "      <td>0</td>\n",
       "      <td>2021.0</td>\n",
       "      <td>NaN</td>\n",
       "      <td>any and all</td>\n",
       "      <td>NaN</td>\n",
       "      <td>NaN</td>\n",
       "      <td>other</td>\n",
       "      <td>NaN</td>\n",
       "      <td>clean</td>\n",
       "      <td>other</td>\n",
       "      <td>NaN</td>\n",
       "      <td>NaN</td>\n",
       "      <td>NaN</td>\n",
       "      <td>NaN</td>\n",
       "      <td>The Thomas Hirchak Company Auto Auction in Wil...</td>\n",
       "      <td>vt</td>\n",
       "    </tr>\n",
       "    <tr>\n",
       "      <th>407743</th>\n",
       "      <td>7183496111</td>\n",
       "      <td>0</td>\n",
       "      <td>2021.0</td>\n",
       "      <td>NaN</td>\n",
       "      <td>any and all</td>\n",
       "      <td>NaN</td>\n",
       "      <td>NaN</td>\n",
       "      <td>gas</td>\n",
       "      <td>NaN</td>\n",
       "      <td>clean</td>\n",
       "      <td>automatic</td>\n",
       "      <td>NaN</td>\n",
       "      <td>NaN</td>\n",
       "      <td>NaN</td>\n",
       "      <td>NaN</td>\n",
       "      <td>The Thomas Hirchak Public Auto Auction is look...</td>\n",
       "      <td>vt</td>\n",
       "    </tr>\n",
       "    <tr>\n",
       "      <th>408133</th>\n",
       "      <td>7192398091</td>\n",
       "      <td>25469</td>\n",
       "      <td>2021.0</td>\n",
       "      <td>chevrolet</td>\n",
       "      <td>trailblazer</td>\n",
       "      <td>NaN</td>\n",
       "      <td>NaN</td>\n",
       "      <td>gas</td>\n",
       "      <td>9.0</td>\n",
       "      <td>clean</td>\n",
       "      <td>automatic</td>\n",
       "      <td>fwd</td>\n",
       "      <td>NaN</td>\n",
       "      <td>NaN</td>\n",
       "      <td>NaN</td>\n",
       "      <td>➔ Want to see more pictures?Paste this link to...</td>\n",
       "      <td>in</td>\n",
       "    </tr>\n",
       "    <tr>\n",
       "      <th>414309</th>\n",
       "      <td>7192395910</td>\n",
       "      <td>25469</td>\n",
       "      <td>2021.0</td>\n",
       "      <td>chevrolet</td>\n",
       "      <td>trailblazer</td>\n",
       "      <td>NaN</td>\n",
       "      <td>NaN</td>\n",
       "      <td>gas</td>\n",
       "      <td>9.0</td>\n",
       "      <td>clean</td>\n",
       "      <td>automatic</td>\n",
       "      <td>fwd</td>\n",
       "      <td>NaN</td>\n",
       "      <td>NaN</td>\n",
       "      <td>NaN</td>\n",
       "      <td>➔ Want to see more pictures?Paste this link to...</td>\n",
       "      <td>ia</td>\n",
       "    </tr>\n",
       "    <tr>\n",
       "      <th>416973</th>\n",
       "      <td>7192472752</td>\n",
       "      <td>5000</td>\n",
       "      <td>2021.0</td>\n",
       "      <td>chevrolet</td>\n",
       "      <td>silverado 1500</td>\n",
       "      <td>NaN</td>\n",
       "      <td>NaN</td>\n",
       "      <td>gas</td>\n",
       "      <td>4728224.0</td>\n",
       "      <td>clean</td>\n",
       "      <td>automatic</td>\n",
       "      <td>NaN</td>\n",
       "      <td>NaN</td>\n",
       "      <td>NaN</td>\n",
       "      <td>NaN</td>\n",
       "      <td>Have a Car sitting there taking space don't he...</td>\n",
       "      <td>tx</td>\n",
       "    </tr>\n",
       "  </tbody>\n",
       "</table>\n",
       "<p>174 rows × 17 columns</p>\n",
       "</div>"
      ],
      "text/plain": [
       "                id  price    year manufacturer               model condition  \\\n",
       "6202    7194162420  22680  2021.0      hyundai  kona sel automatic       NaN   \n",
       "6420    7193568670    975  2021.0          NaN        isuzu NPR HD       new   \n",
       "7035    7191841338  37996  2021.0       toyota     venza le hybrid       new   \n",
       "8445    7180860200  45000  2021.0      hyundai    palisade limited       new   \n",
       "9180    7194548582      0  2021.0          kia        telluride sx  like new   \n",
       "...            ...    ...     ...          ...                 ...       ...   \n",
       "407442  7184361544      0  2021.0          NaN         any and all       NaN   \n",
       "407743  7183496111      0  2021.0          NaN         any and all       NaN   \n",
       "408133  7192398091  25469  2021.0    chevrolet         trailblazer       NaN   \n",
       "414309  7192395910  25469  2021.0    chevrolet         trailblazer       NaN   \n",
       "416973  7192472752   5000  2021.0    chevrolet      silverado 1500       NaN   \n",
       "\n",
       "        cylinders    fuel   odometer title_status transmission drive  \\\n",
       "6202          NaN     gas        8.0        clean    automatic   fwd   \n",
       "6420          8.0     gas        NaN        clean    automatic   NaN   \n",
       "7035          6.0  hybrid        NaN        clean    automatic   4wd   \n",
       "8445          6.0     gas      645.0        clean    automatic   fwd   \n",
       "9180          6.0     gas        NaN        clean    automatic   fwd   \n",
       "...           ...     ...        ...          ...          ...   ...   \n",
       "407442        NaN   other        NaN        clean        other   NaN   \n",
       "407743        NaN     gas        NaN        clean    automatic   NaN   \n",
       "408133        NaN     gas        9.0        clean    automatic   fwd   \n",
       "414309        NaN     gas        9.0        clean    automatic   fwd   \n",
       "416973        NaN     gas  4728224.0        clean    automatic   NaN   \n",
       "\n",
       "             size type paint_color  \\\n",
       "6202          NaN  SUV       white   \n",
       "6420          NaN  NaN         NaN   \n",
       "7035     mid-size  SUV         red   \n",
       "8445          NaN  SUV         NaN   \n",
       "9180    full-size  SUV       black   \n",
       "...           ...  ...         ...   \n",
       "407442        NaN  NaN         NaN   \n",
       "407743        NaN  NaN         NaN   \n",
       "408133        NaN  NaN         NaN   \n",
       "414309        NaN  NaN         NaN   \n",
       "416973        NaN  NaN         NaN   \n",
       "\n",
       "                                              description state  \n",
       "6202    2021 Hyundai Kona SEL  Tamiami Hyundai800-499-...    fl  \n",
       "6420    2021 Isuzu NPR Hd, 16ft pro- scaper . Automati...    fl  \n",
       "7035    This all New Toyota Venza LE Hybrid Hybrid Edi...    tx  \n",
       "8445    Bought this vehicle less than a week ago.  Has...    tn  \n",
       "9180    Fully loaded Telluride SX  wont last long .Thi...    fl  \n",
       "...                                                   ...   ...  \n",
       "407442  The Thomas Hirchak Company Auto Auction in Wil...    vt  \n",
       "407743  The Thomas Hirchak Public Auto Auction is look...    vt  \n",
       "408133  ➔ Want to see more pictures?Paste this link to...    in  \n",
       "414309  ➔ Want to see more pictures?Paste this link to...    ia  \n",
       "416973  Have a Car sitting there taking space don't he...    tx  \n",
       "\n",
       "[174 rows x 17 columns]"
      ]
     },
     "execution_count": 44,
     "metadata": {},
     "output_type": "execute_result"
    }
   ],
   "source": [
    "df[df[\"year\"]==2021]"
   ]
  },
  {
   "cell_type": "markdown",
   "metadata": {},
   "source": [
    "Same with the 2021 vehicles."
   ]
  },
  {
   "cell_type": "code",
   "execution_count": 45,
   "metadata": {},
   "outputs": [],
   "source": [
    "df_clean = df_clean[df_clean[\"year\"]<2021]"
   ]
  },
  {
   "cell_type": "code",
   "execution_count": 46,
   "metadata": {},
   "outputs": [
    {
     "data": {
      "text/plain": [
       "<AxesSubplot:>"
      ]
     },
     "execution_count": 46,
     "metadata": {},
     "output_type": "execute_result"
    },
    {
     "data": {
      "image/png": "[encoded data removed]",
      "text/plain": [
       "<Figure size 432x288 with 1 Axes>"
      ]
     },
     "metadata": {
      "needs_background": "light"
     },
     "output_type": "display_data"
    }
   ],
   "source": [
    "df_clean.year.hist()"
   ]
  },
  {
   "cell_type": "code",
   "execution_count": 47,
   "metadata": {},
   "outputs": [
    {
     "data": {
      "text/plain": [
       "<AxesSubplot:>"
      ]
     },
     "execution_count": 47,
     "metadata": {},
     "output_type": "execute_result"
    },
    {
     "data": {
      "image/png": "[encoded data removed]",
      "text/plain": [
       "<Figure size 432x288 with 1 Axes>"
      ]
     },
     "metadata": {
      "needs_background": "light"
     },
     "output_type": "display_data"
    }
   ],
   "source": [
    "df_clean.boxplot('year')"
   ]
  },
  {
   "cell_type": "markdown",
   "metadata": {},
   "source": [
    "**Other columns**"
   ]
  },
  {
   "cell_type": "code",
   "execution_count": 48,
   "metadata": {},
   "outputs": [
    {
     "data": {
      "text/plain": [
       "array(['automatic', 'manual', 'other', nan], dtype=object)"
      ]
     },
     "execution_count": 48,
     "metadata": {},
     "output_type": "execute_result"
    }
   ],
   "source": [
    "df_clean.transmission.unique()"
   ]
  },
  {
   "cell_type": "code",
   "execution_count": 49,
   "metadata": {},
   "outputs": [
    {
     "data": {
      "text/html": [
       "<div>\n",
       "<style scoped>\n",
       "    .dataframe tbody tr th:only-of-type {\n",
       "        vertical-align: middle;\n",
       "    }\n",
       "\n",
       "    .dataframe tbody tr th {\n",
       "        vertical-align: top;\n",
       "    }\n",
       "\n",
       "    .dataframe thead th {\n",
       "        text-align: right;\n",
       "    }\n",
       "</style>\n",
       "<table border=\"1\" class=\"dataframe\">\n",
       "  <thead>\n",
       "    <tr style=\"text-align: right;\">\n",
       "      <th></th>\n",
       "      <th>id</th>\n",
       "      <th>price</th>\n",
       "      <th>year</th>\n",
       "      <th>manufacturer</th>\n",
       "      <th>model</th>\n",
       "      <th>condition</th>\n",
       "      <th>cylinders</th>\n",
       "      <th>fuel</th>\n",
       "      <th>odometer</th>\n",
       "      <th>title_status</th>\n",
       "      <th>transmission</th>\n",
       "      <th>drive</th>\n",
       "      <th>size</th>\n",
       "      <th>type</th>\n",
       "      <th>paint_color</th>\n",
       "      <th>description</th>\n",
       "      <th>state</th>\n",
       "    </tr>\n",
       "  </thead>\n",
       "  <tbody>\n",
       "    <tr>\n",
       "      <th>46</th>\n",
       "      <td>7195072023</td>\n",
       "      <td>19995</td>\n",
       "      <td>2005.0</td>\n",
       "      <td>ford</td>\n",
       "      <td>super duty f-350 drw</td>\n",
       "      <td>excellent</td>\n",
       "      <td>8.0</td>\n",
       "      <td>diesel</td>\n",
       "      <td>167828.0</td>\n",
       "      <td>clean</td>\n",
       "      <td>other</td>\n",
       "      <td>4wd</td>\n",
       "      <td>NaN</td>\n",
       "      <td>truck</td>\n",
       "      <td>NaN</td>\n",
       "      <td>2005 FORD F350 LARIAT DUALLY V8 TURBO DIESEL 4...</td>\n",
       "      <td>nm</td>\n",
       "    </tr>\n",
       "    <tr>\n",
       "      <th>108</th>\n",
       "      <td>7195070569</td>\n",
       "      <td>14495</td>\n",
       "      <td>2014.0</td>\n",
       "      <td>bmw</td>\n",
       "      <td>328i 6-speed manual</td>\n",
       "      <td>excellent</td>\n",
       "      <td>4.0</td>\n",
       "      <td>gas</td>\n",
       "      <td>85122.0</td>\n",
       "      <td>clean</td>\n",
       "      <td>other</td>\n",
       "      <td>NaN</td>\n",
       "      <td>NaN</td>\n",
       "      <td>sedan</td>\n",
       "      <td>NaN</td>\n",
       "      <td>2014 BMW 328I 6-SPEED MANUAL! FULLY LOADED! EZ...</td>\n",
       "      <td>nm</td>\n",
       "    </tr>\n",
       "    <tr>\n",
       "      <th>109</th>\n",
       "      <td>7195070470</td>\n",
       "      <td>18495</td>\n",
       "      <td>2007.0</td>\n",
       "      <td>bmw</td>\n",
       "      <td>m6</td>\n",
       "      <td>excellent</td>\n",
       "      <td>10.0</td>\n",
       "      <td>gas</td>\n",
       "      <td>85556.0</td>\n",
       "      <td>clean</td>\n",
       "      <td>other</td>\n",
       "      <td>NaN</td>\n",
       "      <td>NaN</td>\n",
       "      <td>convertible</td>\n",
       "      <td>NaN</td>\n",
       "      <td>2007 BMW M6 CONVERTIBLE! LOADED! V10 510HP! EZ...</td>\n",
       "      <td>nm</td>\n",
       "    </tr>\n",
       "    <tr>\n",
       "      <th>205</th>\n",
       "      <td>7187420140</td>\n",
       "      <td>4999</td>\n",
       "      <td>2009.0</td>\n",
       "      <td>NaN</td>\n",
       "      <td>No data No data</td>\n",
       "      <td>good</td>\n",
       "      <td>4.0</td>\n",
       "      <td>gas</td>\n",
       "      <td>1699.0</td>\n",
       "      <td>clean</td>\n",
       "      <td>other</td>\n",
       "      <td>rwd</td>\n",
       "      <td>full-size</td>\n",
       "      <td>truck</td>\n",
       "      <td>white</td>\n",
       "      <td>http://www.goodguysmotorco.com2009 No data No ...</td>\n",
       "      <td>mn</td>\n",
       "    </tr>\n",
       "    <tr>\n",
       "      <th>215</th>\n",
       "      <td>7187418498</td>\n",
       "      <td>12970</td>\n",
       "      <td>2014.0</td>\n",
       "      <td>chevrolet</td>\n",
       "      <td>express cargo van</td>\n",
       "      <td>good</td>\n",
       "      <td>8.0</td>\n",
       "      <td>gas</td>\n",
       "      <td>198334.0</td>\n",
       "      <td>clean</td>\n",
       "      <td>other</td>\n",
       "      <td>4wd</td>\n",
       "      <td>mid-size</td>\n",
       "      <td>van</td>\n",
       "      <td>white</td>\n",
       "      <td>http://www.goodguysmotorco.com2014 Chevrolet E...</td>\n",
       "      <td>mn</td>\n",
       "    </tr>\n",
       "    <tr>\n",
       "      <th>...</th>\n",
       "      <td>...</td>\n",
       "      <td>...</td>\n",
       "      <td>...</td>\n",
       "      <td>...</td>\n",
       "      <td>...</td>\n",
       "      <td>...</td>\n",
       "      <td>...</td>\n",
       "      <td>...</td>\n",
       "      <td>...</td>\n",
       "      <td>...</td>\n",
       "      <td>...</td>\n",
       "      <td>...</td>\n",
       "      <td>...</td>\n",
       "      <td>...</td>\n",
       "      <td>...</td>\n",
       "      <td>...</td>\n",
       "      <td>...</td>\n",
       "    </tr>\n",
       "    <tr>\n",
       "      <th>423514</th>\n",
       "      <td>7193549053</td>\n",
       "      <td>15990</td>\n",
       "      <td>2012.0</td>\n",
       "      <td>honda</td>\n",
       "      <td>cr-v ex-l sport utility 4d</td>\n",
       "      <td>good</td>\n",
       "      <td>NaN</td>\n",
       "      <td>gas</td>\n",
       "      <td>88006.0</td>\n",
       "      <td>clean</td>\n",
       "      <td>other</td>\n",
       "      <td>NaN</td>\n",
       "      <td>NaN</td>\n",
       "      <td>other</td>\n",
       "      <td>brown</td>\n",
       "      <td>Carvana is the safer way to buy a car During t...</td>\n",
       "      <td>ct</td>\n",
       "    </tr>\n",
       "    <tr>\n",
       "      <th>423533</th>\n",
       "      <td>7193538209</td>\n",
       "      <td>19990</td>\n",
       "      <td>2014.0</td>\n",
       "      <td>gmc</td>\n",
       "      <td>acadia slt-1 sport utility</td>\n",
       "      <td>good</td>\n",
       "      <td>6.0</td>\n",
       "      <td>gas</td>\n",
       "      <td>67156.0</td>\n",
       "      <td>clean</td>\n",
       "      <td>other</td>\n",
       "      <td>NaN</td>\n",
       "      <td>NaN</td>\n",
       "      <td>SUV</td>\n",
       "      <td>NaN</td>\n",
       "      <td>Carvana is the safer way to buy a car During t...</td>\n",
       "      <td>ct</td>\n",
       "    </tr>\n",
       "    <tr>\n",
       "      <th>423540</th>\n",
       "      <td>7193522431</td>\n",
       "      <td>19990</td>\n",
       "      <td>2016.0</td>\n",
       "      <td>jeep</td>\n",
       "      <td>renegade limited sport</td>\n",
       "      <td>good</td>\n",
       "      <td>NaN</td>\n",
       "      <td>gas</td>\n",
       "      <td>55223.0</td>\n",
       "      <td>clean</td>\n",
       "      <td>other</td>\n",
       "      <td>4wd</td>\n",
       "      <td>NaN</td>\n",
       "      <td>other</td>\n",
       "      <td>blue</td>\n",
       "      <td>Carvana is the safer way to buy a car During t...</td>\n",
       "      <td>ct</td>\n",
       "    </tr>\n",
       "    <tr>\n",
       "      <th>423598</th>\n",
       "      <td>7193515449</td>\n",
       "      <td>20990</td>\n",
       "      <td>2018.0</td>\n",
       "      <td>chevrolet</td>\n",
       "      <td>equinox premier sport</td>\n",
       "      <td>good</td>\n",
       "      <td>NaN</td>\n",
       "      <td>gas</td>\n",
       "      <td>35690.0</td>\n",
       "      <td>clean</td>\n",
       "      <td>other</td>\n",
       "      <td>fwd</td>\n",
       "      <td>NaN</td>\n",
       "      <td>SUV</td>\n",
       "      <td>grey</td>\n",
       "      <td>Carvana is the safer way to buy a car During t...</td>\n",
       "      <td>ct</td>\n",
       "    </tr>\n",
       "    <tr>\n",
       "      <th>423705</th>\n",
       "      <td>7193511133</td>\n",
       "      <td>40990</td>\n",
       "      <td>2019.0</td>\n",
       "      <td>honda</td>\n",
       "      <td>ridgeline black edition</td>\n",
       "      <td>good</td>\n",
       "      <td>6.0</td>\n",
       "      <td>gas</td>\n",
       "      <td>18736.0</td>\n",
       "      <td>clean</td>\n",
       "      <td>other</td>\n",
       "      <td>NaN</td>\n",
       "      <td>NaN</td>\n",
       "      <td>pickup</td>\n",
       "      <td>black</td>\n",
       "      <td>Carvana is the safer way to buy a car During t...</td>\n",
       "      <td>ct</td>\n",
       "    </tr>\n",
       "  </tbody>\n",
       "</table>\n",
       "<p>9610 rows × 17 columns</p>\n",
       "</div>"
      ],
      "text/plain": [
       "                id  price    year manufacturer                       model  \\\n",
       "46      7195072023  19995  2005.0         ford        super duty f-350 drw   \n",
       "108     7195070569  14495  2014.0          bmw         328i 6-speed manual   \n",
       "109     7195070470  18495  2007.0          bmw                          m6   \n",
       "205     7187420140   4999  2009.0          NaN             No data No data   \n",
       "215     7187418498  12970  2014.0    chevrolet           express cargo van   \n",
       "...            ...    ...     ...          ...                         ...   \n",
       "423514  7193549053  15990  2012.0        honda  cr-v ex-l sport utility 4d   \n",
       "423533  7193538209  19990  2014.0          gmc  acadia slt-1 sport utility   \n",
       "423540  7193522431  19990  2016.0         jeep      renegade limited sport   \n",
       "423598  7193515449  20990  2018.0    chevrolet       equinox premier sport   \n",
       "423705  7193511133  40990  2019.0        honda     ridgeline black edition   \n",
       "\n",
       "        condition  cylinders    fuel  odometer title_status transmission  \\\n",
       "46      excellent        8.0  diesel  167828.0        clean        other   \n",
       "108     excellent        4.0     gas   85122.0        clean        other   \n",
       "109     excellent       10.0     gas   85556.0        clean        other   \n",
       "205          good        4.0     gas    1699.0        clean        other   \n",
       "215          good        8.0     gas  198334.0        clean        other   \n",
       "...           ...        ...     ...       ...          ...          ...   \n",
       "423514       good        NaN     gas   88006.0        clean        other   \n",
       "423533       good        6.0     gas   67156.0        clean        other   \n",
       "423540       good        NaN     gas   55223.0        clean        other   \n",
       "423598       good        NaN     gas   35690.0        clean        other   \n",
       "423705       good        6.0     gas   18736.0        clean        other   \n",
       "\n",
       "       drive       size         type paint_color  \\\n",
       "46       4wd        NaN        truck         NaN   \n",
       "108      NaN        NaN        sedan         NaN   \n",
       "109      NaN        NaN  convertible         NaN   \n",
       "205      rwd  full-size        truck       white   \n",
       "215      4wd   mid-size          van       white   \n",
       "...      ...        ...          ...         ...   \n",
       "423514   NaN        NaN        other       brown   \n",
       "423533   NaN        NaN          SUV         NaN   \n",
       "423540   4wd        NaN        other        blue   \n",
       "423598   fwd        NaN          SUV        grey   \n",
       "423705   NaN        NaN       pickup       black   \n",
       "\n",
       "                                              description state  \n",
       "46      2005 FORD F350 LARIAT DUALLY V8 TURBO DIESEL 4...    nm  \n",
       "108     2014 BMW 328I 6-SPEED MANUAL! FULLY LOADED! EZ...    nm  \n",
       "109     2007 BMW M6 CONVERTIBLE! LOADED! V10 510HP! EZ...    nm  \n",
       "205     http://www.goodguysmotorco.com2009 No data No ...    mn  \n",
       "215     http://www.goodguysmotorco.com2014 Chevrolet E...    mn  \n",
       "...                                                   ...   ...  \n",
       "423514  Carvana is the safer way to buy a car During t...    ct  \n",
       "423533  Carvana is the safer way to buy a car During t...    ct  \n",
       "423540  Carvana is the safer way to buy a car During t...    ct  \n",
       "423598  Carvana is the safer way to buy a car During t...    ct  \n",
       "423705  Carvana is the safer way to buy a car During t...    ct  \n",
       "\n",
       "[9610 rows x 17 columns]"
      ]
     },
     "execution_count": 49,
     "metadata": {},
     "output_type": "execute_result"
    }
   ],
   "source": [
    "df_clean[df_clean[\"transmission\"]=='other']"
   ]
  },
  {
   "cell_type": "markdown",
   "metadata": {},
   "source": [
    "9k entries with \"other\" transmission. Drop it."
   ]
  },
  {
   "cell_type": "code",
   "execution_count": 50,
   "metadata": {},
   "outputs": [],
   "source": [
    "df_clean = df_clean[df_clean[\"transmission\"]!='other']"
   ]
  },
  {
   "cell_type": "code",
   "execution_count": 51,
   "metadata": {},
   "outputs": [
    {
     "data": {
      "text/plain": [
       "array(['gas', 'hybrid', 'diesel', 'other', 'electric', nan], dtype=object)"
      ]
     },
     "execution_count": 51,
     "metadata": {},
     "output_type": "execute_result"
    }
   ],
   "source": [
    "df_clean.fuel.unique()"
   ]
  },
  {
   "cell_type": "code",
   "execution_count": 52,
   "metadata": {},
   "outputs": [
    {
     "data": {
      "text/html": [
       "<div>\n",
       "<style scoped>\n",
       "    .dataframe tbody tr th:only-of-type {\n",
       "        vertical-align: middle;\n",
       "    }\n",
       "\n",
       "    .dataframe tbody tr th {\n",
       "        vertical-align: top;\n",
       "    }\n",
       "\n",
       "    .dataframe thead th {\n",
       "        text-align: right;\n",
       "    }\n",
       "</style>\n",
       "<table border=\"1\" class=\"dataframe\">\n",
       "  <thead>\n",
       "    <tr style=\"text-align: right;\">\n",
       "      <th></th>\n",
       "      <th>id</th>\n",
       "      <th>price</th>\n",
       "      <th>year</th>\n",
       "      <th>manufacturer</th>\n",
       "      <th>model</th>\n",
       "      <th>condition</th>\n",
       "      <th>cylinders</th>\n",
       "      <th>fuel</th>\n",
       "      <th>odometer</th>\n",
       "      <th>title_status</th>\n",
       "      <th>transmission</th>\n",
       "      <th>drive</th>\n",
       "      <th>size</th>\n",
       "      <th>type</th>\n",
       "      <th>paint_color</th>\n",
       "      <th>description</th>\n",
       "      <th>state</th>\n",
       "    </tr>\n",
       "  </thead>\n",
       "  <tbody>\n",
       "    <tr>\n",
       "      <th>24</th>\n",
       "      <td>7184513461</td>\n",
       "      <td>13995</td>\n",
       "      <td>2011.0</td>\n",
       "      <td>jeep</td>\n",
       "      <td>grand cherokee</td>\n",
       "      <td>NaN</td>\n",
       "      <td>NaN</td>\n",
       "      <td>other</td>\n",
       "      <td>NaN</td>\n",
       "      <td>clean</td>\n",
       "      <td>automatic</td>\n",
       "      <td>NaN</td>\n",
       "      <td>NaN</td>\n",
       "      <td>NaN</td>\n",
       "      <td>NaN</td>\n",
       "      <td>2011 *Jeep* *Grand Cherokee* *Overland* *SUV* ...</td>\n",
       "      <td>mn</td>\n",
       "    </tr>\n",
       "    <tr>\n",
       "      <th>64</th>\n",
       "      <td>7183882171</td>\n",
       "      <td>20995</td>\n",
       "      <td>2015.0</td>\n",
       "      <td>chevrolet</td>\n",
       "      <td>silverado 1500</td>\n",
       "      <td>NaN</td>\n",
       "      <td>NaN</td>\n",
       "      <td>other</td>\n",
       "      <td>NaN</td>\n",
       "      <td>clean</td>\n",
       "      <td>automatic</td>\n",
       "      <td>NaN</td>\n",
       "      <td>NaN</td>\n",
       "      <td>pickup</td>\n",
       "      <td>NaN</td>\n",
       "      <td>2015 *Chevrolet* *Silverado 1500* *LT* *Pickup...</td>\n",
       "      <td>mn</td>\n",
       "    </tr>\n",
       "    <tr>\n",
       "      <th>104</th>\n",
       "      <td>7183230572</td>\n",
       "      <td>18995</td>\n",
       "      <td>2007.0</td>\n",
       "      <td>chevrolet</td>\n",
       "      <td>silverado 2500hd</td>\n",
       "      <td>NaN</td>\n",
       "      <td>NaN</td>\n",
       "      <td>other</td>\n",
       "      <td>NaN</td>\n",
       "      <td>clean</td>\n",
       "      <td>automatic</td>\n",
       "      <td>NaN</td>\n",
       "      <td>NaN</td>\n",
       "      <td>pickup</td>\n",
       "      <td>NaN</td>\n",
       "      <td>2007 *Chevrolet* *Silverado 2500HD* *LTZ* *Pic...</td>\n",
       "      <td>mn</td>\n",
       "    </tr>\n",
       "    <tr>\n",
       "      <th>202</th>\n",
       "      <td>7195187839</td>\n",
       "      <td>13795</td>\n",
       "      <td>2016.0</td>\n",
       "      <td>toyota</td>\n",
       "      <td>prius</td>\n",
       "      <td>NaN</td>\n",
       "      <td>NaN</td>\n",
       "      <td>other</td>\n",
       "      <td>80242.0</td>\n",
       "      <td>clean</td>\n",
       "      <td>automatic</td>\n",
       "      <td>NaN</td>\n",
       "      <td>NaN</td>\n",
       "      <td>hatchback</td>\n",
       "      <td>red</td>\n",
       "      <td>2016 TOYOTA PRIUS Two     Offered by: Insiders...</td>\n",
       "      <td>dc</td>\n",
       "    </tr>\n",
       "    <tr>\n",
       "      <th>281</th>\n",
       "      <td>7187006644</td>\n",
       "      <td>10995</td>\n",
       "      <td>2009.0</td>\n",
       "      <td>ford</td>\n",
       "      <td>f-150</td>\n",
       "      <td>NaN</td>\n",
       "      <td>NaN</td>\n",
       "      <td>other</td>\n",
       "      <td>164030.0</td>\n",
       "      <td>clean</td>\n",
       "      <td>automatic</td>\n",
       "      <td>NaN</td>\n",
       "      <td>NaN</td>\n",
       "      <td>other</td>\n",
       "      <td>NaN</td>\n",
       "      <td>2009 Ford F-150 F150 F 150 XLT 4x4 4dr SuperCa...</td>\n",
       "      <td>mn</td>\n",
       "    </tr>\n",
       "    <tr>\n",
       "      <th>...</th>\n",
       "      <td>...</td>\n",
       "      <td>...</td>\n",
       "      <td>...</td>\n",
       "      <td>...</td>\n",
       "      <td>...</td>\n",
       "      <td>...</td>\n",
       "      <td>...</td>\n",
       "      <td>...</td>\n",
       "      <td>...</td>\n",
       "      <td>...</td>\n",
       "      <td>...</td>\n",
       "      <td>...</td>\n",
       "      <td>...</td>\n",
       "      <td>...</td>\n",
       "      <td>...</td>\n",
       "      <td>...</td>\n",
       "      <td>...</td>\n",
       "    </tr>\n",
       "    <tr>\n",
       "      <th>423759</th>\n",
       "      <td>7186952619</td>\n",
       "      <td>8995</td>\n",
       "      <td>2008.0</td>\n",
       "      <td>jeep</td>\n",
       "      <td>commander</td>\n",
       "      <td>NaN</td>\n",
       "      <td>NaN</td>\n",
       "      <td>other</td>\n",
       "      <td>NaN</td>\n",
       "      <td>clean</td>\n",
       "      <td>automatic</td>\n",
       "      <td>NaN</td>\n",
       "      <td>NaN</td>\n",
       "      <td>NaN</td>\n",
       "      <td>NaN</td>\n",
       "      <td>2008 *Jeep* *Commander* *Sport* *SUV* 💲💲💲 SPEC...</td>\n",
       "      <td>mn</td>\n",
       "    </tr>\n",
       "    <tr>\n",
       "      <th>423787</th>\n",
       "      <td>7186389833</td>\n",
       "      <td>16995</td>\n",
       "      <td>2011.0</td>\n",
       "      <td>chevrolet</td>\n",
       "      <td>avalanche</td>\n",
       "      <td>NaN</td>\n",
       "      <td>NaN</td>\n",
       "      <td>other</td>\n",
       "      <td>NaN</td>\n",
       "      <td>clean</td>\n",
       "      <td>automatic</td>\n",
       "      <td>NaN</td>\n",
       "      <td>NaN</td>\n",
       "      <td>pickup</td>\n",
       "      <td>NaN</td>\n",
       "      <td>2011 *Chevrolet* *Avalanche* *LT* *Pickup Truc...</td>\n",
       "      <td>mn</td>\n",
       "    </tr>\n",
       "    <tr>\n",
       "      <th>423788</th>\n",
       "      <td>7186387872</td>\n",
       "      <td>18995</td>\n",
       "      <td>2007.0</td>\n",
       "      <td>chevrolet</td>\n",
       "      <td>silverado 2500hd</td>\n",
       "      <td>NaN</td>\n",
       "      <td>NaN</td>\n",
       "      <td>other</td>\n",
       "      <td>NaN</td>\n",
       "      <td>clean</td>\n",
       "      <td>automatic</td>\n",
       "      <td>NaN</td>\n",
       "      <td>NaN</td>\n",
       "      <td>pickup</td>\n",
       "      <td>NaN</td>\n",
       "      <td>2007 *Chevrolet* *Silverado 2500HD* *LTZ* *Pic...</td>\n",
       "      <td>mn</td>\n",
       "    </tr>\n",
       "    <tr>\n",
       "      <th>423812</th>\n",
       "      <td>7185731517</td>\n",
       "      <td>8995</td>\n",
       "      <td>2008.0</td>\n",
       "      <td>ford</td>\n",
       "      <td>edge</td>\n",
       "      <td>NaN</td>\n",
       "      <td>NaN</td>\n",
       "      <td>other</td>\n",
       "      <td>NaN</td>\n",
       "      <td>clean</td>\n",
       "      <td>automatic</td>\n",
       "      <td>NaN</td>\n",
       "      <td>NaN</td>\n",
       "      <td>sedan</td>\n",
       "      <td>NaN</td>\n",
       "      <td>2008 *Ford* *Edge* *Limited* *Sedan* 💲💲💲 SPECI...</td>\n",
       "      <td>mn</td>\n",
       "    </tr>\n",
       "    <tr>\n",
       "      <th>423848</th>\n",
       "      <td>7185114822</td>\n",
       "      <td>19995</td>\n",
       "      <td>2010.0</td>\n",
       "      <td>gmc</td>\n",
       "      <td>sierra 1500</td>\n",
       "      <td>NaN</td>\n",
       "      <td>NaN</td>\n",
       "      <td>other</td>\n",
       "      <td>NaN</td>\n",
       "      <td>clean</td>\n",
       "      <td>automatic</td>\n",
       "      <td>NaN</td>\n",
       "      <td>NaN</td>\n",
       "      <td>pickup</td>\n",
       "      <td>NaN</td>\n",
       "      <td>2010 *GMC* *Sierra 1500* *Denali* *Pickup Truc...</td>\n",
       "      <td>mn</td>\n",
       "    </tr>\n",
       "  </tbody>\n",
       "</table>\n",
       "<p>7070 rows × 17 columns</p>\n",
       "</div>"
      ],
      "text/plain": [
       "                id  price    year manufacturer             model condition  \\\n",
       "24      7184513461  13995  2011.0         jeep    grand cherokee       NaN   \n",
       "64      7183882171  20995  2015.0    chevrolet    silverado 1500       NaN   \n",
       "104     7183230572  18995  2007.0    chevrolet  silverado 2500hd       NaN   \n",
       "202     7195187839  13795  2016.0       toyota             prius       NaN   \n",
       "281     7187006644  10995  2009.0         ford             f-150       NaN   \n",
       "...            ...    ...     ...          ...               ...       ...   \n",
       "423759  7186952619   8995  2008.0         jeep         commander       NaN   \n",
       "423787  7186389833  16995  2011.0    chevrolet         avalanche       NaN   \n",
       "423788  7186387872  18995  2007.0    chevrolet  silverado 2500hd       NaN   \n",
       "423812  7185731517   8995  2008.0         ford              edge       NaN   \n",
       "423848  7185114822  19995  2010.0          gmc       sierra 1500       NaN   \n",
       "\n",
       "        cylinders   fuel  odometer title_status transmission drive size  \\\n",
       "24            NaN  other       NaN        clean    automatic   NaN  NaN   \n",
       "64            NaN  other       NaN        clean    automatic   NaN  NaN   \n",
       "104           NaN  other       NaN        clean    automatic   NaN  NaN   \n",
       "202           NaN  other   80242.0        clean    automatic   NaN  NaN   \n",
       "281           NaN  other  164030.0        clean    automatic   NaN  NaN   \n",
       "...           ...    ...       ...          ...          ...   ...  ...   \n",
       "423759        NaN  other       NaN        clean    automatic   NaN  NaN   \n",
       "423787        NaN  other       NaN        clean    automatic   NaN  NaN   \n",
       "423788        NaN  other       NaN        clean    automatic   NaN  NaN   \n",
       "423812        NaN  other       NaN        clean    automatic   NaN  NaN   \n",
       "423848        NaN  other       NaN        clean    automatic   NaN  NaN   \n",
       "\n",
       "             type paint_color  \\\n",
       "24            NaN         NaN   \n",
       "64         pickup         NaN   \n",
       "104        pickup         NaN   \n",
       "202     hatchback         red   \n",
       "281         other         NaN   \n",
       "...           ...         ...   \n",
       "423759        NaN         NaN   \n",
       "423787     pickup         NaN   \n",
       "423788     pickup         NaN   \n",
       "423812      sedan         NaN   \n",
       "423848     pickup         NaN   \n",
       "\n",
       "                                              description state  \n",
       "24      2011 *Jeep* *Grand Cherokee* *Overland* *SUV* ...    mn  \n",
       "64      2015 *Chevrolet* *Silverado 1500* *LT* *Pickup...    mn  \n",
       "104     2007 *Chevrolet* *Silverado 2500HD* *LTZ* *Pic...    mn  \n",
       "202     2016 TOYOTA PRIUS Two     Offered by: Insiders...    dc  \n",
       "281     2009 Ford F-150 F150 F 150 XLT 4x4 4dr SuperCa...    mn  \n",
       "...                                                   ...   ...  \n",
       "423759  2008 *Jeep* *Commander* *Sport* *SUV* 💲💲💲 SPEC...    mn  \n",
       "423787  2011 *Chevrolet* *Avalanche* *LT* *Pickup Truc...    mn  \n",
       "423788  2007 *Chevrolet* *Silverado 2500HD* *LTZ* *Pic...    mn  \n",
       "423812  2008 *Ford* *Edge* *Limited* *Sedan* 💲💲💲 SPECI...    mn  \n",
       "423848  2010 *GMC* *Sierra 1500* *Denali* *Pickup Truc...    mn  \n",
       "\n",
       "[7070 rows x 17 columns]"
      ]
     },
     "execution_count": 52,
     "metadata": {},
     "output_type": "execute_result"
    }
   ],
   "source": [
    "df_clean[df_clean[\"fuel\"]=='other']"
   ]
  },
  {
   "cell_type": "markdown",
   "metadata": {},
   "source": [
    "7k \"other\" fuel. Drop it."
   ]
  },
  {
   "cell_type": "code",
   "execution_count": 54,
   "metadata": {},
   "outputs": [],
   "source": [
    "df_clean = df_clean[df_clean[\"fuel\"]!='other']"
   ]
  },
  {
   "cell_type": "code",
   "execution_count": 55,
   "metadata": {},
   "outputs": [
    {
     "data": {
      "text/plain": [
       "array([nan, 'sedan', 'truck', 'SUV', 'mini-van', 'wagon', 'hatchback',\n",
       "       'pickup', 'coupe', 'other', 'van', 'convertible', 'bus', 'offroad'],\n",
       "      dtype=object)"
      ]
     },
     "execution_count": 55,
     "metadata": {},
     "output_type": "execute_result"
    }
   ],
   "source": [
    "df_clean.type.unique()"
   ]
  },
  {
   "cell_type": "code",
   "execution_count": 56,
   "metadata": {},
   "outputs": [
    {
     "data": {
      "text/html": [
       "<div>\n",
       "<style scoped>\n",
       "    .dataframe tbody tr th:only-of-type {\n",
       "        vertical-align: middle;\n",
       "    }\n",
       "\n",
       "    .dataframe tbody tr th {\n",
       "        vertical-align: top;\n",
       "    }\n",
       "\n",
       "    .dataframe thead th {\n",
       "        text-align: right;\n",
       "    }\n",
       "</style>\n",
       "<table border=\"1\" class=\"dataframe\">\n",
       "  <thead>\n",
       "    <tr style=\"text-align: right;\">\n",
       "      <th></th>\n",
       "      <th>id</th>\n",
       "      <th>price</th>\n",
       "      <th>year</th>\n",
       "      <th>manufacturer</th>\n",
       "      <th>model</th>\n",
       "      <th>condition</th>\n",
       "      <th>cylinders</th>\n",
       "      <th>fuel</th>\n",
       "      <th>odometer</th>\n",
       "      <th>title_status</th>\n",
       "      <th>transmission</th>\n",
       "      <th>drive</th>\n",
       "      <th>size</th>\n",
       "      <th>type</th>\n",
       "      <th>paint_color</th>\n",
       "      <th>description</th>\n",
       "      <th>state</th>\n",
       "    </tr>\n",
       "  </thead>\n",
       "  <tbody>\n",
       "    <tr>\n",
       "      <th>101</th>\n",
       "      <td>7183295264</td>\n",
       "      <td>16000</td>\n",
       "      <td>2007.0</td>\n",
       "      <td>NaN</td>\n",
       "      <td>International</td>\n",
       "      <td>good</td>\n",
       "      <td>8.0</td>\n",
       "      <td>diesel</td>\n",
       "      <td>38000.0</td>\n",
       "      <td>clean</td>\n",
       "      <td>automatic</td>\n",
       "      <td>rwd</td>\n",
       "      <td>NaN</td>\n",
       "      <td>other</td>\n",
       "      <td>white</td>\n",
       "      <td>2007 International recycle truck that could be...</td>\n",
       "      <td>mn</td>\n",
       "    </tr>\n",
       "    <tr>\n",
       "      <th>269</th>\n",
       "      <td>7195167882</td>\n",
       "      <td>34995</td>\n",
       "      <td>2018.0</td>\n",
       "      <td>acura</td>\n",
       "      <td>mdx</td>\n",
       "      <td>NaN</td>\n",
       "      <td>NaN</td>\n",
       "      <td>gas</td>\n",
       "      <td>36224.0</td>\n",
       "      <td>clean</td>\n",
       "      <td>automatic</td>\n",
       "      <td>NaN</td>\n",
       "      <td>NaN</td>\n",
       "      <td>other</td>\n",
       "      <td>NaN</td>\n",
       "      <td>2018 ACURA MDX w/Technology/Entertainment Pkg ...</td>\n",
       "      <td>dc</td>\n",
       "    </tr>\n",
       "    <tr>\n",
       "      <th>289</th>\n",
       "      <td>7194953786</td>\n",
       "      <td>46900</td>\n",
       "      <td>2018.0</td>\n",
       "      <td>ford</td>\n",
       "      <td>f-350 super duty</td>\n",
       "      <td>excellent</td>\n",
       "      <td>8.0</td>\n",
       "      <td>gas</td>\n",
       "      <td>24099.0</td>\n",
       "      <td>clean</td>\n",
       "      <td>automatic</td>\n",
       "      <td>4wd</td>\n",
       "      <td>full-size</td>\n",
       "      <td>other</td>\n",
       "      <td>red</td>\n",
       "      <td>2018 Ford F-350 Super Duty XL 4x4 2dr Regular ...</td>\n",
       "      <td>ny</td>\n",
       "    </tr>\n",
       "    <tr>\n",
       "      <th>299</th>\n",
       "      <td>7180931475</td>\n",
       "      <td>3500</td>\n",
       "      <td>2004.0</td>\n",
       "      <td>NaN</td>\n",
       "      <td>Ford350</td>\n",
       "      <td>good</td>\n",
       "      <td>NaN</td>\n",
       "      <td>gas</td>\n",
       "      <td>NaN</td>\n",
       "      <td>clean</td>\n",
       "      <td>automatic</td>\n",
       "      <td>NaN</td>\n",
       "      <td>NaN</td>\n",
       "      <td>other</td>\n",
       "      <td>white</td>\n",
       "      <td>F350 ford box truck with ramp. Works good with...</td>\n",
       "      <td>nc</td>\n",
       "    </tr>\n",
       "    <tr>\n",
       "      <th>327</th>\n",
       "      <td>7180639558</td>\n",
       "      <td>15000</td>\n",
       "      <td>2013.0</td>\n",
       "      <td>toyota</td>\n",
       "      <td>venza limited</td>\n",
       "      <td>excellent</td>\n",
       "      <td>6.0</td>\n",
       "      <td>gas</td>\n",
       "      <td>102000.0</td>\n",
       "      <td>clean</td>\n",
       "      <td>automatic</td>\n",
       "      <td>NaN</td>\n",
       "      <td>mid-size</td>\n",
       "      <td>other</td>\n",
       "      <td>white</td>\n",
       "      <td>Limited, all options, Panoramic roof, heated l...</td>\n",
       "      <td>nc</td>\n",
       "    </tr>\n",
       "    <tr>\n",
       "      <th>...</th>\n",
       "      <td>...</td>\n",
       "      <td>...</td>\n",
       "      <td>...</td>\n",
       "      <td>...</td>\n",
       "      <td>...</td>\n",
       "      <td>...</td>\n",
       "      <td>...</td>\n",
       "      <td>...</td>\n",
       "      <td>...</td>\n",
       "      <td>...</td>\n",
       "      <td>...</td>\n",
       "      <td>...</td>\n",
       "      <td>...</td>\n",
       "      <td>...</td>\n",
       "      <td>...</td>\n",
       "      <td>...</td>\n",
       "      <td>...</td>\n",
       "    </tr>\n",
       "    <tr>\n",
       "      <th>423017</th>\n",
       "      <td>7183355672</td>\n",
       "      <td>19990</td>\n",
       "      <td>2018.0</td>\n",
       "      <td>gmc</td>\n",
       "      <td>terrain sle sport utility 4d</td>\n",
       "      <td>good</td>\n",
       "      <td>NaN</td>\n",
       "      <td>gas</td>\n",
       "      <td>22839.0</td>\n",
       "      <td>clean</td>\n",
       "      <td>automatic</td>\n",
       "      <td>fwd</td>\n",
       "      <td>NaN</td>\n",
       "      <td>other</td>\n",
       "      <td>black</td>\n",
       "      <td>Carvana is the safer way to buy a car During t...</td>\n",
       "      <td>va</td>\n",
       "    </tr>\n",
       "    <tr>\n",
       "      <th>423049</th>\n",
       "      <td>7193737179</td>\n",
       "      <td>11995</td>\n",
       "      <td>2013.0</td>\n",
       "      <td>subaru</td>\n",
       "      <td>brz</td>\n",
       "      <td>excellent</td>\n",
       "      <td>4.0</td>\n",
       "      <td>gas</td>\n",
       "      <td>37644.0</td>\n",
       "      <td>rebuilt</td>\n",
       "      <td>manual</td>\n",
       "      <td>rwd</td>\n",
       "      <td>NaN</td>\n",
       "      <td>other</td>\n",
       "      <td>blue</td>\n",
       "      <td>*** Rebuilt Title***  front left damage, Left ...</td>\n",
       "      <td>ct</td>\n",
       "    </tr>\n",
       "    <tr>\n",
       "      <th>423050</th>\n",
       "      <td>7193732128</td>\n",
       "      <td>9800</td>\n",
       "      <td>2010.0</td>\n",
       "      <td>buick</td>\n",
       "      <td>lacrosse</td>\n",
       "      <td>excellent</td>\n",
       "      <td>6.0</td>\n",
       "      <td>gas</td>\n",
       "      <td>59700.0</td>\n",
       "      <td>clean</td>\n",
       "      <td>automatic</td>\n",
       "      <td>NaN</td>\n",
       "      <td>NaN</td>\n",
       "      <td>other</td>\n",
       "      <td>blue</td>\n",
       "      <td>2010 Buick LaCrosse 4dr Sdn CXL 3.0L AWD Autom...</td>\n",
       "      <td>ct</td>\n",
       "    </tr>\n",
       "    <tr>\n",
       "      <th>423704</th>\n",
       "      <td>7193511160</td>\n",
       "      <td>24590</td>\n",
       "      <td>2014.0</td>\n",
       "      <td>ford</td>\n",
       "      <td>mustang gt premium</td>\n",
       "      <td>good</td>\n",
       "      <td>8.0</td>\n",
       "      <td>gas</td>\n",
       "      <td>36507.0</td>\n",
       "      <td>clean</td>\n",
       "      <td>automatic</td>\n",
       "      <td>rwd</td>\n",
       "      <td>NaN</td>\n",
       "      <td>other</td>\n",
       "      <td>red</td>\n",
       "      <td>Carvana is the safer way to buy a car During t...</td>\n",
       "      <td>ct</td>\n",
       "    </tr>\n",
       "    <tr>\n",
       "      <th>423731</th>\n",
       "      <td>7187578003</td>\n",
       "      <td>12000</td>\n",
       "      <td>2008.0</td>\n",
       "      <td>NaN</td>\n",
       "      <td>Sterling Acterra</td>\n",
       "      <td>good</td>\n",
       "      <td>NaN</td>\n",
       "      <td>diesel</td>\n",
       "      <td>180000.0</td>\n",
       "      <td>clean</td>\n",
       "      <td>automatic</td>\n",
       "      <td>rwd</td>\n",
       "      <td>NaN</td>\n",
       "      <td>other</td>\n",
       "      <td>white</td>\n",
       "      <td>2008 Sterling Acterra 6.7 liter diesel, automa...</td>\n",
       "      <td>mn</td>\n",
       "    </tr>\n",
       "  </tbody>\n",
       "</table>\n",
       "<p>7593 rows × 17 columns</p>\n",
       "</div>"
      ],
      "text/plain": [
       "                id  price    year manufacturer                         model  \\\n",
       "101     7183295264  16000  2007.0          NaN                 International   \n",
       "269     7195167882  34995  2018.0        acura                           mdx   \n",
       "289     7194953786  46900  2018.0         ford              f-350 super duty   \n",
       "299     7180931475   3500  2004.0          NaN                       Ford350   \n",
       "327     7180639558  15000  2013.0       toyota                 venza limited   \n",
       "...            ...    ...     ...          ...                           ...   \n",
       "423017  7183355672  19990  2018.0          gmc  terrain sle sport utility 4d   \n",
       "423049  7193737179  11995  2013.0       subaru                           brz   \n",
       "423050  7193732128   9800  2010.0        buick                      lacrosse   \n",
       "423704  7193511160  24590  2014.0         ford            mustang gt premium   \n",
       "423731  7187578003  12000  2008.0          NaN              Sterling Acterra   \n",
       "\n",
       "        condition  cylinders    fuel  odometer title_status transmission  \\\n",
       "101          good        8.0  diesel   38000.0        clean    automatic   \n",
       "269           NaN        NaN     gas   36224.0        clean    automatic   \n",
       "289     excellent        8.0     gas   24099.0        clean    automatic   \n",
       "299          good        NaN     gas       NaN        clean    automatic   \n",
       "327     excellent        6.0     gas  102000.0        clean    automatic   \n",
       "...           ...        ...     ...       ...          ...          ...   \n",
       "423017       good        NaN     gas   22839.0        clean    automatic   \n",
       "423049  excellent        4.0     gas   37644.0      rebuilt       manual   \n",
       "423050  excellent        6.0     gas   59700.0        clean    automatic   \n",
       "423704       good        8.0     gas   36507.0        clean    automatic   \n",
       "423731       good        NaN  diesel  180000.0        clean    automatic   \n",
       "\n",
       "       drive       size   type paint_color  \\\n",
       "101      rwd        NaN  other       white   \n",
       "269      NaN        NaN  other         NaN   \n",
       "289      4wd  full-size  other         red   \n",
       "299      NaN        NaN  other       white   \n",
       "327      NaN   mid-size  other       white   \n",
       "...      ...        ...    ...         ...   \n",
       "423017   fwd        NaN  other       black   \n",
       "423049   rwd        NaN  other        blue   \n",
       "423050   NaN        NaN  other        blue   \n",
       "423704   rwd        NaN  other         red   \n",
       "423731   rwd        NaN  other       white   \n",
       "\n",
       "                                              description state  \n",
       "101     2007 International recycle truck that could be...    mn  \n",
       "269     2018 ACURA MDX w/Technology/Entertainment Pkg ...    dc  \n",
       "289     2018 Ford F-350 Super Duty XL 4x4 2dr Regular ...    ny  \n",
       "299     F350 ford box truck with ramp. Works good with...    nc  \n",
       "327     Limited, all options, Panoramic roof, heated l...    nc  \n",
       "...                                                   ...   ...  \n",
       "423017  Carvana is the safer way to buy a car During t...    va  \n",
       "423049  *** Rebuilt Title***  front left damage, Left ...    ct  \n",
       "423050  2010 Buick LaCrosse 4dr Sdn CXL 3.0L AWD Autom...    ct  \n",
       "423704  Carvana is the safer way to buy a car During t...    ct  \n",
       "423731  2008 Sterling Acterra 6.7 liter diesel, automa...    mn  \n",
       "\n",
       "[7593 rows x 17 columns]"
      ]
     },
     "execution_count": 56,
     "metadata": {},
     "output_type": "execute_result"
    }
   ],
   "source": [
    "df_clean[df_clean[\"type\"]=='other']"
   ]
  },
  {
   "cell_type": "markdown",
   "metadata": {},
   "source": [
    "7.5k \"other\" type. Drop it."
   ]
  },
  {
   "cell_type": "code",
   "execution_count": 57,
   "metadata": {},
   "outputs": [],
   "source": [
    "df_clean = df_clean[df_clean[\"type\"]!='other']"
   ]
  },
  {
   "cell_type": "code",
   "execution_count": 58,
   "metadata": {},
   "outputs": [
    {
     "data": {
      "text/plain": [
       "array(['excellent', 'good', nan, 'like new', 'fair', 'new', 'salvage'],\n",
       "      dtype=object)"
      ]
     },
     "execution_count": 58,
     "metadata": {},
     "output_type": "execute_result"
    }
   ],
   "source": [
    "df_clean.condition.unique()"
   ]
  },
  {
   "cell_type": "markdown",
   "metadata": {},
   "source": [
    "Imputing nan values with \"NoEspecificado\""
   ]
  },
  {
   "cell_type": "code",
   "execution_count": 59,
   "metadata": {},
   "outputs": [],
   "source": [
    "df_clean.fillna({'condition':'NoEspecificado'}, inplace=True)"
   ]
  },
  {
   "cell_type": "code",
   "execution_count": 60,
   "metadata": {},
   "outputs": [
    {
     "data": {
      "text/plain": [
       "2017.0    21841\n",
       "2013.0    16917\n",
       "2014.0    16604\n",
       "2015.0    16532\n",
       "2016.0    15947\n",
       "2012.0    15526\n",
       "2011.0    15264\n",
       "2008.0    14080\n",
       "2007.0    12778\n",
       "2018.0    12176\n",
       "2010.0    12156\n",
       "2006.0    10860\n",
       "2019.0    10821\n",
       "2009.0     9824\n",
       "2005.0     9157\n",
       "2004.0     8300\n",
       "2003.0     6176\n",
       "2002.0     4979\n",
       "2001.0     3842\n",
       "2020.0     3588\n",
       "2000.0     3264\n",
       "Name: year, dtype: int64"
      ]
     },
     "execution_count": 60,
     "metadata": {},
     "output_type": "execute_result"
    }
   ],
   "source": [
    "df_clean.year.value_counts()"
   ]
  },
  {
   "cell_type": "code",
   "execution_count": 63,
   "metadata": {},
   "outputs": [
    {
     "data": {
      "text/plain": [
       "ford               59786\n",
       "chevrolet          46603\n",
       "toyota             26001\n",
       "honda              18898\n",
       "nissan             17536\n",
       "jeep               14224\n",
       "gmc                12782\n",
       "dodge              12547\n",
       "ram                11917\n",
       "hyundai             8765\n",
       "subaru              7971\n",
       "bmw                 7717\n",
       "volkswagen          7121\n",
       "kia                 7069\n",
       "mercedes-benz       6859\n",
       "chrysler            5903\n",
       "buick               4668\n",
       "cadillac            4615\n",
       "mazda               3964\n",
       "lexus               3916\n",
       "audi                3334\n",
       "acura               2784\n",
       "lincoln             2593\n",
       "pontiac             2323\n",
       "infiniti            2318\n",
       "volvo               2097\n",
       "mitsubishi          1945\n",
       "mercury             1330\n",
       "mini                1320\n",
       "rover               1151\n",
       "saturn              1083\n",
       "jaguar               787\n",
       "fiat                 567\n",
       "tesla                299\n",
       "alfa-romeo           138\n",
       "harley-davidson      125\n",
       "datsun                69\n",
       "ferrari               64\n",
       "aston-martin          28\n",
       "land rover            15\n",
       "porche                 6\n",
       "morgan                 3\n",
       "hennessey              1\n",
       "Name: manufacturer, dtype: int64"
      ]
     },
     "execution_count": 63,
     "metadata": {},
     "output_type": "execute_result"
    }
   ],
   "source": [
    "df.manufacturer.value_counts()"
   ]
  },
  {
   "cell_type": "code",
   "execution_count": 64,
   "metadata": {},
   "outputs": [
    {
     "data": {
      "text/plain": [
       "excellent    85254\n",
       "good         65262\n",
       "like new     17880\n",
       "fair          6724\n",
       "new           1069\n",
       "salvage        530\n",
       "Name: condition, dtype: int64"
      ]
     },
     "execution_count": 64,
     "metadata": {},
     "output_type": "execute_result"
    }
   ],
   "source": [
    "df.condition.value_counts()"
   ]
  },
  {
   "cell_type": "code",
   "execution_count": 65,
   "metadata": {},
   "outputs": [
    {
     "data": {
      "text/plain": [
       "f-150                                                    6073\n",
       "silverado 1500                                           3878\n",
       "escape                                                   3208\n",
       "camry                                                    2906\n",
       "1500                                                     2898\n",
       "                                                         ... \n",
       "proline PTD20                                               1\n",
       "q50 3.0t red sport 400                                      1\n",
       "rdx sh-awd heated leather / moon roof / turbo charged       1\n",
       "altima sl 2.5                                               1\n",
       "highlander ltd.                                             1\n",
       "Name: model, Length: 27042, dtype: int64"
      ]
     },
     "execution_count": 65,
     "metadata": {},
     "output_type": "execute_result"
    }
   ],
   "source": [
    "df.model.value_counts()"
   ]
  },
  {
   "cell_type": "code",
   "execution_count": 66,
   "metadata": {},
   "outputs": [
    {
     "data": {
      "text/plain": [
       "clean         315607\n",
       "rebuilt         6017\n",
       "salvage         3248\n",
       "lien            1963\n",
       "missing          711\n",
       "parts only       213\n",
       "Name: title_status, dtype: int64"
      ]
     },
     "execution_count": 66,
     "metadata": {},
     "output_type": "execute_result"
    }
   ],
   "source": [
    "df.title_status.value_counts()"
   ]
  },
  {
   "cell_type": "code",
   "execution_count": 67,
   "metadata": {},
   "outputs": [
    {
     "data": {
      "text/plain": [
       "array(['mn', 'ct', 'nm', 'tx', 'ny', 'dc', 'nc', 'va', 'wa', 'fl', 'ga',\n",
       "       'ca', 'de', 'tn', 'wi', 'al', 'oh', 'ok', 'ia', 'or', 'nv', 'ma',\n",
       "       'ar', 'mo', 'pa', 'ms', 'ut', 'ky', 'la', 'ks', 'vt', 'ak', 'mt',\n",
       "       'az', 'me', 'nh', 'md', 'ne', 'nd', 'co', 'id', 'wv', 'nj', 'hi',\n",
       "       'mi', 'ri', 'sc', 'sd', 'wy', 'il', 'in'], dtype=object)"
      ]
     },
     "execution_count": 67,
     "metadata": {},
     "output_type": "execute_result"
    }
   ],
   "source": [
    "df_clean.state.unique()"
   ]
  },
  {
   "cell_type": "markdown",
   "metadata": {},
   "source": [
    "**Lets look into NaN values**"
   ]
  },
  {
   "cell_type": "code",
   "execution_count": 74,
   "metadata": {},
   "outputs": [
    {
     "data": {
      "text/plain": [
       "id               0.000000\n",
       "price            0.000000\n",
       "year             0.000000\n",
       "manufacturer     3.312527\n",
       "model            0.896805\n",
       "condition        0.000000\n",
       "cylinders       37.224060\n",
       "fuel             0.715200\n",
       "odometer        15.425629\n",
       "title_status     0.537751\n",
       "transmission     0.330380\n",
       "drive           27.079524\n",
       "size            66.624555\n",
       "type            27.834619\n",
       "paint_color     31.437215\n",
       "description      0.002493\n",
       "state            0.000000\n",
       "dtype: float64"
      ]
     },
     "execution_count": 74,
     "metadata": {},
     "output_type": "execute_result"
    }
   ],
   "source": [
    "(df_clean.isnull().sum() / df_clean.shape[0])*100"
   ]
  },
  {
   "cell_type": "markdown",
   "metadata": {},
   "source": [
    "Droping all unnecessary columns and with the 35% of NaN values. Except for cylinders."
   ]
  },
  {
   "cell_type": "code",
   "execution_count": 75,
   "metadata": {},
   "outputs": [],
   "source": [
    "df_clean.drop(['size','title_status','id'], axis =1, inplace = True)"
   ]
  },
  {
   "cell_type": "markdown",
   "metadata": {},
   "source": [
    "The paintcolor will influeces the prices of the vehicle in the data?"
   ]
  },
  {
   "cell_type": "code",
   "execution_count": 77,
   "metadata": {},
   "outputs": [
    {
     "data": {
      "text/plain": [
       "<seaborn.axisgrid.FacetGrid at 0x22f82f57c70>"
      ]
     },
     "execution_count": 77,
     "metadata": {},
     "output_type": "execute_result"
    },
    {
     "data": {
      "image/png": "[encoded data removed]",
      "text/plain": [
       "<Figure size 864x144 with 1 Axes>"
      ]
     },
     "metadata": {
      "needs_background": "light"
     },
     "output_type": "display_data"
    }
   ],
   "source": [
    "sns.catplot(x='paint_color', y='price', kind=\"box\", data=df_clean, aspect = 6, height=2)     "
   ]
  },
  {
   "cell_type": "markdown",
   "metadata": {},
   "source": [
    "Aparently in the data, the color of the car has no influence in the vehicle price. Drop it."
   ]
  },
  {
   "cell_type": "code",
   "execution_count": 78,
   "metadata": {},
   "outputs": [],
   "source": [
    "df_clean.drop(['paint_color'], axis =1, inplace = True)"
   ]
  },
  {
   "cell_type": "code",
   "execution_count": 79,
   "metadata": {},
   "outputs": [
    {
     "data": {
      "text/plain": [
       "price             int64\n",
       "year            float64\n",
       "manufacturer     object\n",
       "model            object\n",
       "condition        object\n",
       "cylinders       float64\n",
       "fuel             object\n",
       "odometer        float64\n",
       "transmission     object\n",
       "drive            object\n",
       "type             object\n",
       "description      object\n",
       "state            object\n",
       "dtype: object"
      ]
     },
     "execution_count": 79,
     "metadata": {},
     "output_type": "execute_result"
    }
   ],
   "source": [
    "df_clean.dtypes"
   ]
  },
  {
   "cell_type": "markdown",
   "metadata": {},
   "source": [
    "Will work only with entires with less than 1kk of odometer."
   ]
  },
  {
   "cell_type": "code",
   "execution_count": 81,
   "metadata": {},
   "outputs": [
    {
     "data": {
      "text/plain": [
       "price            0.000000\n",
       "year             0.000000\n",
       "manufacturer     2.960876\n",
       "model            0.654038\n",
       "condition        0.000000\n",
       "cylinders       32.342441\n",
       "fuel             0.804025\n",
       "odometer         0.000000\n",
       "transmission     0.356525\n",
       "drive           20.650399\n",
       "type            20.450746\n",
       "description      0.002951\n",
       "state            0.000000\n",
       "dtype: float64"
      ]
     },
     "execution_count": 81,
     "metadata": {},
     "output_type": "execute_result"
    }
   ],
   "source": [
    "(df_clean.isnull().sum() / df_clean.shape[0])*100"
   ]
  },
  {
   "cell_type": "markdown",
   "metadata": {},
   "source": [
    "Fill NaN values in the odometer column with the mean."
   ]
  },
  {
   "cell_type": "code",
   "execution_count": 83,
   "metadata": {},
   "outputs": [],
   "source": [
    "df_clean['odometer'].fillna(df_clean['odometer'].mean(), inplace = True)"
   ]
  },
  {
   "cell_type": "code",
   "execution_count": 84,
   "metadata": {},
   "outputs": [
    {
     "data": {
      "text/plain": [
       "count     203352.000000\n",
       "mean      101091.699934\n",
       "std        65045.092563\n",
       "min            0.000000\n",
       "25%        50318.750000\n",
       "50%        97000.000000\n",
       "75%       141000.000000\n",
       "max      1000000.000000\n",
       "Name: odometer, dtype: float64"
      ]
     },
     "execution_count": 84,
     "metadata": {},
     "output_type": "execute_result"
    }
   ],
   "source": [
    "df_clean.odometer.describe()"
   ]
  },
  {
   "cell_type": "code",
   "execution_count": 85,
   "metadata": {},
   "outputs": [
    {
     "data": {
      "text/plain": [
       "65769"
      ]
     },
     "execution_count": 85,
     "metadata": {},
     "output_type": "execute_result"
    }
   ],
   "source": [
    "df_clean.cylinders.isnull().sum()"
   ]
  },
  {
   "cell_type": "markdown",
   "metadata": {},
   "source": [
    "Filling up cylinders NaN with the median of it."
   ]
  },
  {
   "cell_type": "code",
   "execution_count": 88,
   "metadata": {},
   "outputs": [],
   "source": [
    "df_clean.cylinders.fillna(df_clean.cylinders.median(), inplace=True)"
   ]
  },
  {
   "cell_type": "code",
   "execution_count": 89,
   "metadata": {},
   "outputs": [
    {
     "data": {
      "text/plain": [
       "price            0.000000\n",
       "year             0.000000\n",
       "manufacturer     2.960876\n",
       "model            0.654038\n",
       "condition        0.000000\n",
       "cylinders        0.000000\n",
       "fuel             0.804025\n",
       "odometer         0.000000\n",
       "transmission     0.356525\n",
       "drive           20.650399\n",
       "type            20.450746\n",
       "description      0.002951\n",
       "state            0.000000\n",
       "dtype: float64"
      ]
     },
     "execution_count": 89,
     "metadata": {},
     "output_type": "execute_result"
    }
   ],
   "source": [
    "(df_clean.isnull().sum() / df_clean.shape[0])*100"
   ]
  },
  {
   "cell_type": "markdown",
   "metadata": {},
   "source": [
    "Imputing nan values with \"NoEspecificado\""
   ]
  },
  {
   "cell_type": "code",
   "execution_count": 91,
   "metadata": {},
   "outputs": [],
   "source": [
    "df_clean.fillna({'drive':'NoEspecificado'}, inplace=True)\n",
    "df_clean.fillna({'type':'NoEspecificado'}, inplace=True)"
   ]
  },
  {
   "cell_type": "markdown",
   "metadata": {},
   "source": [
    "Last, drop all remaining NaN values"
   ]
  },
  {
   "cell_type": "code",
   "execution_count": 92,
   "metadata": {},
   "outputs": [],
   "source": [
    "df_clean = df_clean.dropna()"
   ]
  },
  {
   "cell_type": "code",
   "execution_count": 93,
   "metadata": {},
   "outputs": [
    {
     "data": {
      "text/plain": [
       "price           0.0\n",
       "year            0.0\n",
       "manufacturer    0.0\n",
       "model           0.0\n",
       "condition       0.0\n",
       "cylinders       0.0\n",
       "fuel            0.0\n",
       "odometer        0.0\n",
       "transmission    0.0\n",
       "drive           0.0\n",
       "type            0.0\n",
       "description     0.0\n",
       "state           0.0\n",
       "dtype: float64"
      ]
     },
     "execution_count": 93,
     "metadata": {},
     "output_type": "execute_result"
    }
   ],
   "source": [
    "(df_clean.isnull().sum() / df_clean.shape[0])*100"
   ]
  },
  {
   "cell_type": "markdown",
   "metadata": {},
   "source": [
    "**Nice! no NaN values. Lets try something now**"
   ]
  },
  {
   "cell_type": "markdown",
   "metadata": {},
   "source": [
    "We will check if the lenght of the description of the vehicle implies a higher price"
   ]
  },
  {
   "cell_type": "code",
   "execution_count": 95,
   "metadata": {},
   "outputs": [],
   "source": [
    "df_clean['dlen'] = df_clean['description'].str.len()"
   ]
  },
  {
   "cell_type": "markdown",
   "metadata": {},
   "source": [
    "Creating a new variable, named edad or age in english"
   ]
  },
  {
   "cell_type": "code",
   "execution_count": 101,
   "metadata": {},
   "outputs": [],
   "source": [
    "df_clean['edad'] = 2021 - df_clean['year']"
   ]
  },
  {
   "cell_type": "code",
   "execution_count": 103,
   "metadata": {},
   "outputs": [
    {
     "data": {
      "text/plain": [
       "price             int64\n",
       "year            float64\n",
       "manufacturer     object\n",
       "model            object\n",
       "condition        object\n",
       "cylinders       float64\n",
       "fuel             object\n",
       "odometer        float64\n",
       "transmission     object\n",
       "drive            object\n",
       "type             object\n",
       "description      object\n",
       "state            object\n",
       "dlen              int64\n",
       "edad            float64\n",
       "dtype: object"
      ]
     },
     "execution_count": 103,
     "metadata": {},
     "output_type": "execute_result"
    }
   ],
   "source": [
    "df_clean.dtypes"
   ]
  },
  {
   "cell_type": "markdown",
   "metadata": {},
   "source": [
    "New variable, miles per year, maybe has an influence in the price of the vehicle"
   ]
  },
  {
   "cell_type": "code",
   "execution_count": 104,
   "metadata": {},
   "outputs": [],
   "source": [
    "df_clean['millas_anuales'] = df_clean['odometer'] / df_clean['edad']"
   ]
  },
  {
   "cell_type": "code",
   "execution_count": 105,
   "metadata": {},
   "outputs": [
    {
     "data": {
      "text/plain": [
       "count    193912.000000\n",
       "mean      11733.218050\n",
       "std        6646.873818\n",
       "min           0.000000\n",
       "25%        7946.792857\n",
       "50%       10968.750000\n",
       "75%       14529.050000\n",
       "max      432258.500000\n",
       "Name: millas_anuales, dtype: float64"
      ]
     },
     "execution_count": 105,
     "metadata": {},
     "output_type": "execute_result"
    }
   ],
   "source": [
    "df_clean.millas_anuales.describe()"
   ]
  },
  {
   "cell_type": "markdown",
   "metadata": {},
   "source": [
    "We can make a new variable called price per mile"
   ]
  },
  {
   "cell_type": "code",
   "execution_count": 107,
   "metadata": {},
   "outputs": [],
   "source": [
    "df_clean['precio_por_milla'] = df_clean['price'] / df_clean['odometer']"
   ]
  },
  {
   "cell_type": "code",
   "execution_count": 108,
   "metadata": {},
   "outputs": [
    {
     "data": {
      "text/plain": [
       "count    1.939120e+05\n",
       "mean              inf\n",
       "std               NaN\n",
       "min      1.600000e-03\n",
       "25%      5.400286e-02\n",
       "50%      1.300000e-01\n",
       "75%      4.004421e-01\n",
       "max               inf\n",
       "Name: precio_por_milla, dtype: float64"
      ]
     },
     "execution_count": 108,
     "metadata": {},
     "output_type": "execute_result"
    }
   ],
   "source": [
    "df_clean.precio_por_milla.describe()"
   ]
  },
  {
   "cell_type": "markdown",
   "metadata": {},
   "source": [
    "Its too small :("
   ]
  },
  {
   "cell_type": "code",
   "execution_count": 112,
   "metadata": {},
   "outputs": [
    {
     "data": {
      "text/plain": [
       "(193912, 17)"
      ]
     },
     "execution_count": 112,
     "metadata": {},
     "output_type": "execute_result"
    }
   ],
   "source": [
    "df_clean.shape"
   ]
  },
  {
   "cell_type": "markdown",
   "metadata": {},
   "source": [
    "**Finally, final shape of the data: 193912 entries and 17 columns. Next we will visualize the data for modeling**"
   ]
  },
  {
   "cell_type": "code",
   "execution_count": 113,
   "metadata": {},
   "outputs": [],
   "source": [
    "df_clean.to_csv('vehicles_clean.csv')"
   ]
  }
 ],
 "metadata": {
  "kernelspec": {
   "display_name": "Python 3",
   "language": "python",
   "name": "python3"
  },
  "language_info": {
   "codemirror_mode": {
    "name": "ipython",
    "version": 3
   },
   "file_extension": ".py",
   "mimetype": "text/x-python",
   "name": "python",
   "nbconvert_exporter": "python",
   "pygments_lexer": "ipython3",
   "version": "3.8.3"
  }
 },
 "nbformat": 4,
 "nbformat_minor": 4
}
